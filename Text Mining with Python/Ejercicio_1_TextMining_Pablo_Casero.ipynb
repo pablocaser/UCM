{
  "nbformat": 4,
  "nbformat_minor": 0,
  "metadata": {
    "colab": {
      "name": "Ejercicio_1_TextMining_pabloCasero.ipynb",
      "provenance": [],
      "collapsed_sections": []
    },
    "kernelspec": {
      "name": "python3",
      "display_name": "Python 3"
    },
    "widgets": {
      "application/vnd.jupyter.widget-state+json": {
        "21f63157ad7d4eb9aabcb6796afa50b6": {
          "model_module": "@jupyter-widgets/controls",
          "model_name": "HBoxModel",
          "state": {
            "_view_name": "HBoxView",
            "_dom_classes": [],
            "_model_name": "HBoxModel",
            "_view_module": "@jupyter-widgets/controls",
            "_model_module_version": "1.5.0",
            "_view_count": null,
            "_view_module_version": "1.5.0",
            "box_style": "",
            "layout": "IPY_MODEL_24ee2cd0d082428abf90b522a86f9530",
            "_model_module": "@jupyter-widgets/controls",
            "children": [
              "IPY_MODEL_c2e47b7aa1af42f4ba019a138c639b3f",
              "IPY_MODEL_597d12827dea469e815dae685cca684f"
            ]
          }
        },
        "24ee2cd0d082428abf90b522a86f9530": {
          "model_module": "@jupyter-widgets/base",
          "model_name": "LayoutModel",
          "state": {
            "_view_name": "LayoutView",
            "grid_template_rows": null,
            "right": null,
            "justify_content": null,
            "_view_module": "@jupyter-widgets/base",
            "overflow": null,
            "_model_module_version": "1.2.0",
            "_view_count": null,
            "flex_flow": null,
            "width": null,
            "min_width": null,
            "border": null,
            "align_items": null,
            "bottom": null,
            "_model_module": "@jupyter-widgets/base",
            "top": null,
            "grid_column": null,
            "overflow_y": null,
            "overflow_x": null,
            "grid_auto_flow": null,
            "grid_area": null,
            "grid_template_columns": null,
            "flex": null,
            "_model_name": "LayoutModel",
            "justify_items": null,
            "grid_row": null,
            "max_height": null,
            "align_content": null,
            "visibility": null,
            "align_self": null,
            "height": null,
            "min_height": null,
            "padding": null,
            "grid_auto_rows": null,
            "grid_gap": null,
            "max_width": null,
            "order": null,
            "_view_module_version": "1.2.0",
            "grid_template_areas": null,
            "object_position": null,
            "object_fit": null,
            "grid_auto_columns": null,
            "margin": null,
            "display": null,
            "left": null
          }
        },
        "c2e47b7aa1af42f4ba019a138c639b3f": {
          "model_module": "@jupyter-widgets/controls",
          "model_name": "FloatProgressModel",
          "state": {
            "_view_name": "ProgressView",
            "style": "IPY_MODEL_0ea7a899fe5a460687827debb3d2b862",
            "_dom_classes": [],
            "description": "100%",
            "_model_name": "FloatProgressModel",
            "bar_style": "success",
            "max": 20491,
            "_view_module": "@jupyter-widgets/controls",
            "_model_module_version": "1.5.0",
            "value": 20491,
            "_view_count": null,
            "_view_module_version": "1.5.0",
            "orientation": "horizontal",
            "min": 0,
            "description_tooltip": null,
            "_model_module": "@jupyter-widgets/controls",
            "layout": "IPY_MODEL_d3d3404e24a24f1caa3dadb035c68c78"
          }
        },
        "597d12827dea469e815dae685cca684f": {
          "model_module": "@jupyter-widgets/controls",
          "model_name": "HTMLModel",
          "state": {
            "_view_name": "HTMLView",
            "style": "IPY_MODEL_2a48be0bf6064489b45a4f1323cd0c73",
            "_dom_classes": [],
            "description": "",
            "_model_name": "HTMLModel",
            "placeholder": "​",
            "_view_module": "@jupyter-widgets/controls",
            "_model_module_version": "1.5.0",
            "value": " 20491/20491 [06:24&lt;00:00, 53.31it/s]",
            "_view_count": null,
            "_view_module_version": "1.5.0",
            "description_tooltip": null,
            "_model_module": "@jupyter-widgets/controls",
            "layout": "IPY_MODEL_266e0c3fb77a46138532d84b7f740caf"
          }
        },
        "0ea7a899fe5a460687827debb3d2b862": {
          "model_module": "@jupyter-widgets/controls",
          "model_name": "ProgressStyleModel",
          "state": {
            "_view_name": "StyleView",
            "_model_name": "ProgressStyleModel",
            "description_width": "initial",
            "_view_module": "@jupyter-widgets/base",
            "_model_module_version": "1.5.0",
            "_view_count": null,
            "_view_module_version": "1.2.0",
            "bar_color": null,
            "_model_module": "@jupyter-widgets/controls"
          }
        },
        "d3d3404e24a24f1caa3dadb035c68c78": {
          "model_module": "@jupyter-widgets/base",
          "model_name": "LayoutModel",
          "state": {
            "_view_name": "LayoutView",
            "grid_template_rows": null,
            "right": null,
            "justify_content": null,
            "_view_module": "@jupyter-widgets/base",
            "overflow": null,
            "_model_module_version": "1.2.0",
            "_view_count": null,
            "flex_flow": null,
            "width": null,
            "min_width": null,
            "border": null,
            "align_items": null,
            "bottom": null,
            "_model_module": "@jupyter-widgets/base",
            "top": null,
            "grid_column": null,
            "overflow_y": null,
            "overflow_x": null,
            "grid_auto_flow": null,
            "grid_area": null,
            "grid_template_columns": null,
            "flex": null,
            "_model_name": "LayoutModel",
            "justify_items": null,
            "grid_row": null,
            "max_height": null,
            "align_content": null,
            "visibility": null,
            "align_self": null,
            "height": null,
            "min_height": null,
            "padding": null,
            "grid_auto_rows": null,
            "grid_gap": null,
            "max_width": null,
            "order": null,
            "_view_module_version": "1.2.0",
            "grid_template_areas": null,
            "object_position": null,
            "object_fit": null,
            "grid_auto_columns": null,
            "margin": null,
            "display": null,
            "left": null
          }
        },
        "2a48be0bf6064489b45a4f1323cd0c73": {
          "model_module": "@jupyter-widgets/controls",
          "model_name": "DescriptionStyleModel",
          "state": {
            "_view_name": "StyleView",
            "_model_name": "DescriptionStyleModel",
            "description_width": "",
            "_view_module": "@jupyter-widgets/base",
            "_model_module_version": "1.5.0",
            "_view_count": null,
            "_view_module_version": "1.2.0",
            "_model_module": "@jupyter-widgets/controls"
          }
        },
        "266e0c3fb77a46138532d84b7f740caf": {
          "model_module": "@jupyter-widgets/base",
          "model_name": "LayoutModel",
          "state": {
            "_view_name": "LayoutView",
            "grid_template_rows": null,
            "right": null,
            "justify_content": null,
            "_view_module": "@jupyter-widgets/base",
            "overflow": null,
            "_model_module_version": "1.2.0",
            "_view_count": null,
            "flex_flow": null,
            "width": null,
            "min_width": null,
            "border": null,
            "align_items": null,
            "bottom": null,
            "_model_module": "@jupyter-widgets/base",
            "top": null,
            "grid_column": null,
            "overflow_y": null,
            "overflow_x": null,
            "grid_auto_flow": null,
            "grid_area": null,
            "grid_template_columns": null,
            "flex": null,
            "_model_name": "LayoutModel",
            "justify_items": null,
            "grid_row": null,
            "max_height": null,
            "align_content": null,
            "visibility": null,
            "align_self": null,
            "height": null,
            "min_height": null,
            "padding": null,
            "grid_auto_rows": null,
            "grid_gap": null,
            "max_width": null,
            "order": null,
            "_view_module_version": "1.2.0",
            "grid_template_areas": null,
            "object_position": null,
            "object_fit": null,
            "grid_auto_columns": null,
            "margin": null,
            "display": null,
            "left": null
          }
        },
        "2141e71ceb50400ea90694a16ba90a3d": {
          "model_module": "@jupyter-widgets/controls",
          "model_name": "HBoxModel",
          "state": {
            "_view_name": "HBoxView",
            "_dom_classes": [],
            "_model_name": "HBoxModel",
            "_view_module": "@jupyter-widgets/controls",
            "_model_module_version": "1.5.0",
            "_view_count": null,
            "_view_module_version": "1.5.0",
            "box_style": "",
            "layout": "IPY_MODEL_3cf3059e3dc340419c690e3ffecbdf00",
            "_model_module": "@jupyter-widgets/controls",
            "children": [
              "IPY_MODEL_7ee5554631644254a51402a23701faaf",
              "IPY_MODEL_15379a169a994679ae5abb58c7131d5a"
            ]
          }
        },
        "3cf3059e3dc340419c690e3ffecbdf00": {
          "model_module": "@jupyter-widgets/base",
          "model_name": "LayoutModel",
          "state": {
            "_view_name": "LayoutView",
            "grid_template_rows": null,
            "right": null,
            "justify_content": null,
            "_view_module": "@jupyter-widgets/base",
            "overflow": null,
            "_model_module_version": "1.2.0",
            "_view_count": null,
            "flex_flow": null,
            "width": null,
            "min_width": null,
            "border": null,
            "align_items": null,
            "bottom": null,
            "_model_module": "@jupyter-widgets/base",
            "top": null,
            "grid_column": null,
            "overflow_y": null,
            "overflow_x": null,
            "grid_auto_flow": null,
            "grid_area": null,
            "grid_template_columns": null,
            "flex": null,
            "_model_name": "LayoutModel",
            "justify_items": null,
            "grid_row": null,
            "max_height": null,
            "align_content": null,
            "visibility": null,
            "align_self": null,
            "height": null,
            "min_height": null,
            "padding": null,
            "grid_auto_rows": null,
            "grid_gap": null,
            "max_width": null,
            "order": null,
            "_view_module_version": "1.2.0",
            "grid_template_areas": null,
            "object_position": null,
            "object_fit": null,
            "grid_auto_columns": null,
            "margin": null,
            "display": null,
            "left": null
          }
        },
        "7ee5554631644254a51402a23701faaf": {
          "model_module": "@jupyter-widgets/controls",
          "model_name": "FloatProgressModel",
          "state": {
            "_view_name": "ProgressView",
            "style": "IPY_MODEL_79b674674af142c3b4f43125982fe320",
            "_dom_classes": [],
            "description": "100%",
            "_model_name": "FloatProgressModel",
            "bar_style": "success",
            "max": 20491,
            "_view_module": "@jupyter-widgets/controls",
            "_model_module_version": "1.5.0",
            "value": 20491,
            "_view_count": null,
            "_view_module_version": "1.5.0",
            "orientation": "horizontal",
            "min": 0,
            "description_tooltip": null,
            "_model_module": "@jupyter-widgets/controls",
            "layout": "IPY_MODEL_8a1ecb4b97e5474abd0e7ed172bfa7a2"
          }
        },
        "15379a169a994679ae5abb58c7131d5a": {
          "model_module": "@jupyter-widgets/controls",
          "model_name": "HTMLModel",
          "state": {
            "_view_name": "HTMLView",
            "style": "IPY_MODEL_b974b1ac3d28448782b71436b6104c15",
            "_dom_classes": [],
            "description": "",
            "_model_name": "HTMLModel",
            "placeholder": "​",
            "_view_module": "@jupyter-widgets/controls",
            "_model_module_version": "1.5.0",
            "value": " 20491/20491 [02:44&lt;00:00, 124.65it/s]",
            "_view_count": null,
            "_view_module_version": "1.5.0",
            "description_tooltip": null,
            "_model_module": "@jupyter-widgets/controls",
            "layout": "IPY_MODEL_df7fc84e7e44427c94e83b4e0f033aef"
          }
        },
        "79b674674af142c3b4f43125982fe320": {
          "model_module": "@jupyter-widgets/controls",
          "model_name": "ProgressStyleModel",
          "state": {
            "_view_name": "StyleView",
            "_model_name": "ProgressStyleModel",
            "description_width": "initial",
            "_view_module": "@jupyter-widgets/base",
            "_model_module_version": "1.5.0",
            "_view_count": null,
            "_view_module_version": "1.2.0",
            "bar_color": null,
            "_model_module": "@jupyter-widgets/controls"
          }
        },
        "8a1ecb4b97e5474abd0e7ed172bfa7a2": {
          "model_module": "@jupyter-widgets/base",
          "model_name": "LayoutModel",
          "state": {
            "_view_name": "LayoutView",
            "grid_template_rows": null,
            "right": null,
            "justify_content": null,
            "_view_module": "@jupyter-widgets/base",
            "overflow": null,
            "_model_module_version": "1.2.0",
            "_view_count": null,
            "flex_flow": null,
            "width": null,
            "min_width": null,
            "border": null,
            "align_items": null,
            "bottom": null,
            "_model_module": "@jupyter-widgets/base",
            "top": null,
            "grid_column": null,
            "overflow_y": null,
            "overflow_x": null,
            "grid_auto_flow": null,
            "grid_area": null,
            "grid_template_columns": null,
            "flex": null,
            "_model_name": "LayoutModel",
            "justify_items": null,
            "grid_row": null,
            "max_height": null,
            "align_content": null,
            "visibility": null,
            "align_self": null,
            "height": null,
            "min_height": null,
            "padding": null,
            "grid_auto_rows": null,
            "grid_gap": null,
            "max_width": null,
            "order": null,
            "_view_module_version": "1.2.0",
            "grid_template_areas": null,
            "object_position": null,
            "object_fit": null,
            "grid_auto_columns": null,
            "margin": null,
            "display": null,
            "left": null
          }
        },
        "b974b1ac3d28448782b71436b6104c15": {
          "model_module": "@jupyter-widgets/controls",
          "model_name": "DescriptionStyleModel",
          "state": {
            "_view_name": "StyleView",
            "_model_name": "DescriptionStyleModel",
            "description_width": "",
            "_view_module": "@jupyter-widgets/base",
            "_model_module_version": "1.5.0",
            "_view_count": null,
            "_view_module_version": "1.2.0",
            "_model_module": "@jupyter-widgets/controls"
          }
        },
        "df7fc84e7e44427c94e83b4e0f033aef": {
          "model_module": "@jupyter-widgets/base",
          "model_name": "LayoutModel",
          "state": {
            "_view_name": "LayoutView",
            "grid_template_rows": null,
            "right": null,
            "justify_content": null,
            "_view_module": "@jupyter-widgets/base",
            "overflow": null,
            "_model_module_version": "1.2.0",
            "_view_count": null,
            "flex_flow": null,
            "width": null,
            "min_width": null,
            "border": null,
            "align_items": null,
            "bottom": null,
            "_model_module": "@jupyter-widgets/base",
            "top": null,
            "grid_column": null,
            "overflow_y": null,
            "overflow_x": null,
            "grid_auto_flow": null,
            "grid_area": null,
            "grid_template_columns": null,
            "flex": null,
            "_model_name": "LayoutModel",
            "justify_items": null,
            "grid_row": null,
            "max_height": null,
            "align_content": null,
            "visibility": null,
            "align_self": null,
            "height": null,
            "min_height": null,
            "padding": null,
            "grid_auto_rows": null,
            "grid_gap": null,
            "max_width": null,
            "order": null,
            "_view_module_version": "1.2.0",
            "grid_template_areas": null,
            "object_position": null,
            "object_fit": null,
            "grid_auto_columns": null,
            "margin": null,
            "display": null,
            "left": null
          }
        },
        "6e5502f8cf404ee4a86a3ce86b3a2f4c": {
          "model_module": "@jupyter-widgets/controls",
          "model_name": "HBoxModel",
          "state": {
            "_view_name": "HBoxView",
            "_dom_classes": [],
            "_model_name": "HBoxModel",
            "_view_module": "@jupyter-widgets/controls",
            "_model_module_version": "1.5.0",
            "_view_count": null,
            "_view_module_version": "1.5.0",
            "box_style": "",
            "layout": "IPY_MODEL_bdef3fb6f1eb486aaa65a2920d651999",
            "_model_module": "@jupyter-widgets/controls",
            "children": [
              "IPY_MODEL_3a8e35c6d3734821ae957feab7d3bb4f",
              "IPY_MODEL_e2a857cb809a465199bf0623569af929"
            ]
          }
        },
        "bdef3fb6f1eb486aaa65a2920d651999": {
          "model_module": "@jupyter-widgets/base",
          "model_name": "LayoutModel",
          "state": {
            "_view_name": "LayoutView",
            "grid_template_rows": null,
            "right": null,
            "justify_content": null,
            "_view_module": "@jupyter-widgets/base",
            "overflow": null,
            "_model_module_version": "1.2.0",
            "_view_count": null,
            "flex_flow": null,
            "width": null,
            "min_width": null,
            "border": null,
            "align_items": null,
            "bottom": null,
            "_model_module": "@jupyter-widgets/base",
            "top": null,
            "grid_column": null,
            "overflow_y": null,
            "overflow_x": null,
            "grid_auto_flow": null,
            "grid_area": null,
            "grid_template_columns": null,
            "flex": null,
            "_model_name": "LayoutModel",
            "justify_items": null,
            "grid_row": null,
            "max_height": null,
            "align_content": null,
            "visibility": null,
            "align_self": null,
            "height": null,
            "min_height": null,
            "padding": null,
            "grid_auto_rows": null,
            "grid_gap": null,
            "max_width": null,
            "order": null,
            "_view_module_version": "1.2.0",
            "grid_template_areas": null,
            "object_position": null,
            "object_fit": null,
            "grid_auto_columns": null,
            "margin": null,
            "display": null,
            "left": null
          }
        },
        "3a8e35c6d3734821ae957feab7d3bb4f": {
          "model_module": "@jupyter-widgets/controls",
          "model_name": "FloatProgressModel",
          "state": {
            "_view_name": "ProgressView",
            "style": "IPY_MODEL_69044174a9114e85814e535ec4c2f10f",
            "_dom_classes": [],
            "description": "100%",
            "_model_name": "FloatProgressModel",
            "bar_style": "success",
            "max": 20491,
            "_view_module": "@jupyter-widgets/controls",
            "_model_module_version": "1.5.0",
            "value": 20491,
            "_view_count": null,
            "_view_module_version": "1.5.0",
            "orientation": "horizontal",
            "min": 0,
            "description_tooltip": null,
            "_model_module": "@jupyter-widgets/controls",
            "layout": "IPY_MODEL_4ce7e3bbca40400a82d3431fe97d6048"
          }
        },
        "e2a857cb809a465199bf0623569af929": {
          "model_module": "@jupyter-widgets/controls",
          "model_name": "HTMLModel",
          "state": {
            "_view_name": "HTMLView",
            "style": "IPY_MODEL_38e8752adb0d4dd4a813c7c3640e68a8",
            "_dom_classes": [],
            "description": "",
            "_model_name": "HTMLModel",
            "placeholder": "​",
            "_view_module": "@jupyter-widgets/controls",
            "_model_module_version": "1.5.0",
            "value": " 20491/20491 [00:11&lt;00:00, 1821.98it/s]",
            "_view_count": null,
            "_view_module_version": "1.5.0",
            "description_tooltip": null,
            "_model_module": "@jupyter-widgets/controls",
            "layout": "IPY_MODEL_d5db722952cb4c8482569637eb0b7d29"
          }
        },
        "69044174a9114e85814e535ec4c2f10f": {
          "model_module": "@jupyter-widgets/controls",
          "model_name": "ProgressStyleModel",
          "state": {
            "_view_name": "StyleView",
            "_model_name": "ProgressStyleModel",
            "description_width": "initial",
            "_view_module": "@jupyter-widgets/base",
            "_model_module_version": "1.5.0",
            "_view_count": null,
            "_view_module_version": "1.2.0",
            "bar_color": null,
            "_model_module": "@jupyter-widgets/controls"
          }
        },
        "4ce7e3bbca40400a82d3431fe97d6048": {
          "model_module": "@jupyter-widgets/base",
          "model_name": "LayoutModel",
          "state": {
            "_view_name": "LayoutView",
            "grid_template_rows": null,
            "right": null,
            "justify_content": null,
            "_view_module": "@jupyter-widgets/base",
            "overflow": null,
            "_model_module_version": "1.2.0",
            "_view_count": null,
            "flex_flow": null,
            "width": null,
            "min_width": null,
            "border": null,
            "align_items": null,
            "bottom": null,
            "_model_module": "@jupyter-widgets/base",
            "top": null,
            "grid_column": null,
            "overflow_y": null,
            "overflow_x": null,
            "grid_auto_flow": null,
            "grid_area": null,
            "grid_template_columns": null,
            "flex": null,
            "_model_name": "LayoutModel",
            "justify_items": null,
            "grid_row": null,
            "max_height": null,
            "align_content": null,
            "visibility": null,
            "align_self": null,
            "height": null,
            "min_height": null,
            "padding": null,
            "grid_auto_rows": null,
            "grid_gap": null,
            "max_width": null,
            "order": null,
            "_view_module_version": "1.2.0",
            "grid_template_areas": null,
            "object_position": null,
            "object_fit": null,
            "grid_auto_columns": null,
            "margin": null,
            "display": null,
            "left": null
          }
        },
        "38e8752adb0d4dd4a813c7c3640e68a8": {
          "model_module": "@jupyter-widgets/controls",
          "model_name": "DescriptionStyleModel",
          "state": {
            "_view_name": "StyleView",
            "_model_name": "DescriptionStyleModel",
            "description_width": "",
            "_view_module": "@jupyter-widgets/base",
            "_model_module_version": "1.5.0",
            "_view_count": null,
            "_view_module_version": "1.2.0",
            "_model_module": "@jupyter-widgets/controls"
          }
        },
        "d5db722952cb4c8482569637eb0b7d29": {
          "model_module": "@jupyter-widgets/base",
          "model_name": "LayoutModel",
          "state": {
            "_view_name": "LayoutView",
            "grid_template_rows": null,
            "right": null,
            "justify_content": null,
            "_view_module": "@jupyter-widgets/base",
            "overflow": null,
            "_model_module_version": "1.2.0",
            "_view_count": null,
            "flex_flow": null,
            "width": null,
            "min_width": null,
            "border": null,
            "align_items": null,
            "bottom": null,
            "_model_module": "@jupyter-widgets/base",
            "top": null,
            "grid_column": null,
            "overflow_y": null,
            "overflow_x": null,
            "grid_auto_flow": null,
            "grid_area": null,
            "grid_template_columns": null,
            "flex": null,
            "_model_name": "LayoutModel",
            "justify_items": null,
            "grid_row": null,
            "max_height": null,
            "align_content": null,
            "visibility": null,
            "align_self": null,
            "height": null,
            "min_height": null,
            "padding": null,
            "grid_auto_rows": null,
            "grid_gap": null,
            "max_width": null,
            "order": null,
            "_view_module_version": "1.2.0",
            "grid_template_areas": null,
            "object_position": null,
            "object_fit": null,
            "grid_auto_columns": null,
            "margin": null,
            "display": null,
            "left": null
          }
        },
        "293604f1d53148fd94ae0d7b25741536": {
          "model_module": "@jupyter-widgets/controls",
          "model_name": "HBoxModel",
          "state": {
            "_view_name": "HBoxView",
            "_dom_classes": [],
            "_model_name": "HBoxModel",
            "_view_module": "@jupyter-widgets/controls",
            "_model_module_version": "1.5.0",
            "_view_count": null,
            "_view_module_version": "1.5.0",
            "box_style": "",
            "layout": "IPY_MODEL_a8f94b387045496cb1551d48c37c5c31",
            "_model_module": "@jupyter-widgets/controls",
            "children": [
              "IPY_MODEL_3186043961864929b448e756eeca4bdc",
              "IPY_MODEL_8cdb1ddf28fb4fae9508c9b3b3398990"
            ]
          }
        },
        "a8f94b387045496cb1551d48c37c5c31": {
          "model_module": "@jupyter-widgets/base",
          "model_name": "LayoutModel",
          "state": {
            "_view_name": "LayoutView",
            "grid_template_rows": null,
            "right": null,
            "justify_content": null,
            "_view_module": "@jupyter-widgets/base",
            "overflow": null,
            "_model_module_version": "1.2.0",
            "_view_count": null,
            "flex_flow": null,
            "width": null,
            "min_width": null,
            "border": null,
            "align_items": null,
            "bottom": null,
            "_model_module": "@jupyter-widgets/base",
            "top": null,
            "grid_column": null,
            "overflow_y": null,
            "overflow_x": null,
            "grid_auto_flow": null,
            "grid_area": null,
            "grid_template_columns": null,
            "flex": null,
            "_model_name": "LayoutModel",
            "justify_items": null,
            "grid_row": null,
            "max_height": null,
            "align_content": null,
            "visibility": null,
            "align_self": null,
            "height": null,
            "min_height": null,
            "padding": null,
            "grid_auto_rows": null,
            "grid_gap": null,
            "max_width": null,
            "order": null,
            "_view_module_version": "1.2.0",
            "grid_template_areas": null,
            "object_position": null,
            "object_fit": null,
            "grid_auto_columns": null,
            "margin": null,
            "display": null,
            "left": null
          }
        },
        "3186043961864929b448e756eeca4bdc": {
          "model_module": "@jupyter-widgets/controls",
          "model_name": "FloatProgressModel",
          "state": {
            "_view_name": "ProgressView",
            "style": "IPY_MODEL_203d165536b7446c90557c055d570d65",
            "_dom_classes": [],
            "description": "100%",
            "_model_name": "FloatProgressModel",
            "bar_style": "success",
            "max": 20491,
            "_view_module": "@jupyter-widgets/controls",
            "_model_module_version": "1.5.0",
            "value": 20491,
            "_view_count": null,
            "_view_module_version": "1.5.0",
            "orientation": "horizontal",
            "min": 0,
            "description_tooltip": null,
            "_model_module": "@jupyter-widgets/controls",
            "layout": "IPY_MODEL_d36417db811e4b47b4f2efe8f6be20b0"
          }
        },
        "8cdb1ddf28fb4fae9508c9b3b3398990": {
          "model_module": "@jupyter-widgets/controls",
          "model_name": "HTMLModel",
          "state": {
            "_view_name": "HTMLView",
            "style": "IPY_MODEL_ae87b351d866443ba3fb7d0d0454c360",
            "_dom_classes": [],
            "description": "",
            "_model_name": "HTMLModel",
            "placeholder": "​",
            "_view_module": "@jupyter-widgets/controls",
            "_model_module_version": "1.5.0",
            "value": " 20491/20491 [01:07&lt;00:00, 303.43it/s]",
            "_view_count": null,
            "_view_module_version": "1.5.0",
            "description_tooltip": null,
            "_model_module": "@jupyter-widgets/controls",
            "layout": "IPY_MODEL_6816897bad2546929bdccca6e975b2f6"
          }
        },
        "203d165536b7446c90557c055d570d65": {
          "model_module": "@jupyter-widgets/controls",
          "model_name": "ProgressStyleModel",
          "state": {
            "_view_name": "StyleView",
            "_model_name": "ProgressStyleModel",
            "description_width": "initial",
            "_view_module": "@jupyter-widgets/base",
            "_model_module_version": "1.5.0",
            "_view_count": null,
            "_view_module_version": "1.2.0",
            "bar_color": null,
            "_model_module": "@jupyter-widgets/controls"
          }
        },
        "d36417db811e4b47b4f2efe8f6be20b0": {
          "model_module": "@jupyter-widgets/base",
          "model_name": "LayoutModel",
          "state": {
            "_view_name": "LayoutView",
            "grid_template_rows": null,
            "right": null,
            "justify_content": null,
            "_view_module": "@jupyter-widgets/base",
            "overflow": null,
            "_model_module_version": "1.2.0",
            "_view_count": null,
            "flex_flow": null,
            "width": null,
            "min_width": null,
            "border": null,
            "align_items": null,
            "bottom": null,
            "_model_module": "@jupyter-widgets/base",
            "top": null,
            "grid_column": null,
            "overflow_y": null,
            "overflow_x": null,
            "grid_auto_flow": null,
            "grid_area": null,
            "grid_template_columns": null,
            "flex": null,
            "_model_name": "LayoutModel",
            "justify_items": null,
            "grid_row": null,
            "max_height": null,
            "align_content": null,
            "visibility": null,
            "align_self": null,
            "height": null,
            "min_height": null,
            "padding": null,
            "grid_auto_rows": null,
            "grid_gap": null,
            "max_width": null,
            "order": null,
            "_view_module_version": "1.2.0",
            "grid_template_areas": null,
            "object_position": null,
            "object_fit": null,
            "grid_auto_columns": null,
            "margin": null,
            "display": null,
            "left": null
          }
        },
        "ae87b351d866443ba3fb7d0d0454c360": {
          "model_module": "@jupyter-widgets/controls",
          "model_name": "DescriptionStyleModel",
          "state": {
            "_view_name": "StyleView",
            "_model_name": "DescriptionStyleModel",
            "description_width": "",
            "_view_module": "@jupyter-widgets/base",
            "_model_module_version": "1.5.0",
            "_view_count": null,
            "_view_module_version": "1.2.0",
            "_model_module": "@jupyter-widgets/controls"
          }
        },
        "6816897bad2546929bdccca6e975b2f6": {
          "model_module": "@jupyter-widgets/base",
          "model_name": "LayoutModel",
          "state": {
            "_view_name": "LayoutView",
            "grid_template_rows": null,
            "right": null,
            "justify_content": null,
            "_view_module": "@jupyter-widgets/base",
            "overflow": null,
            "_model_module_version": "1.2.0",
            "_view_count": null,
            "flex_flow": null,
            "width": null,
            "min_width": null,
            "border": null,
            "align_items": null,
            "bottom": null,
            "_model_module": "@jupyter-widgets/base",
            "top": null,
            "grid_column": null,
            "overflow_y": null,
            "overflow_x": null,
            "grid_auto_flow": null,
            "grid_area": null,
            "grid_template_columns": null,
            "flex": null,
            "_model_name": "LayoutModel",
            "justify_items": null,
            "grid_row": null,
            "max_height": null,
            "align_content": null,
            "visibility": null,
            "align_self": null,
            "height": null,
            "min_height": null,
            "padding": null,
            "grid_auto_rows": null,
            "grid_gap": null,
            "max_width": null,
            "order": null,
            "_view_module_version": "1.2.0",
            "grid_template_areas": null,
            "object_position": null,
            "object_fit": null,
            "grid_auto_columns": null,
            "margin": null,
            "display": null,
            "left": null
          }
        }
      }
    }
  },
  "cells": [
    {
      "cell_type": "code",
      "metadata": {
        "id": "W5jpuslMM_9T",
        "colab": {
          "base_uri": "https://localhost:8080/"
        },
        "outputId": "195eafd4-fb90-45d3-8459-90dbcc60d542"
      },
      "source": [
        "!wget https://github.com/luisgasco/ntic_master_datos/raw/main/datasets/tripadvisor_reviews.tsv\n",
        "# Se lee con el comando dataset =pd.read_csv(\"tripadvisor_reviews.tsv\", sep=\"\\t\")\n",
        "# Recordar descargar los modelos de spacy y nltk necesarios para la resolución del ejercicio\n"
      ],
      "execution_count": null,
      "outputs": [
        {
          "output_type": "stream",
          "text": [
            "--2021-07-20 17:40:25--  https://github.com/luisgasco/ntic_master_datos/raw/main/datasets/tripadvisor_reviews.tsv\n",
            "Resolving github.com (github.com)... 140.82.121.4\n",
            "Connecting to github.com (github.com)|140.82.121.4|:443... connected.\n",
            "HTTP request sent, awaiting response... 302 Found\n",
            "Location: https://raw.githubusercontent.com/luisgasco/ntic_master_datos/main/datasets/tripadvisor_reviews.tsv [following]\n",
            "--2021-07-20 17:40:26--  https://raw.githubusercontent.com/luisgasco/ntic_master_datos/main/datasets/tripadvisor_reviews.tsv\n",
            "Resolving raw.githubusercontent.com (raw.githubusercontent.com)... 185.199.111.133, 185.199.110.133, 185.199.108.133, ...\n",
            "Connecting to raw.githubusercontent.com (raw.githubusercontent.com)|185.199.111.133|:443... connected.\n",
            "HTTP request sent, awaiting response... 200 OK\n",
            "Length: 14925041 (14M) [text/plain]\n",
            "Saving to: ‘tripadvisor_reviews.tsv.1’\n",
            "\n",
            "tripadvisor_reviews 100%[===================>]  14.23M  63.8MB/s    in 0.2s    \n",
            "\n",
            "2021-07-20 17:40:26 (63.8 MB/s) - ‘tripadvisor_reviews.tsv.1’ saved [14925041/14925041]\n",
            "\n"
          ],
          "name": "stdout"
        }
      ]
    },
    {
      "cell_type": "markdown",
      "metadata": {
        "id": "xDP9zSr-ND85"
      },
      "source": [
        "# Ejercicio 1 (35%)\n",
        "\n",
        "El objetivo de este ejercicio es comprobar los conocimientos adquiridos por el alumno en temas relacionados a las posibilidades de visualización de datos textuales y el proceso de preparación de los textos.\n",
        "\n",
        "Para ello, teniendo en cuenta el conjunto de datos textuales del corpus, se solicita lo siguiente:\n",
        "\n",
        "- **Apartado 1**: Información básica sobre el dataset: Número de documentos, número de documentos duplicados, número de elementos en cada clase. (10%)\n",
        "\n",
        "- **Apartado 2**: Diseñar funciones para la limpieza de los textos:\n",
        "    - Quitar palabras vacías. (10%)\n",
        "    - Quitar símbolos de puntuación. (10%)\n",
        "    - Lematización con Spacy. (10%)\n",
        "    - Tokenización con NLTK. (10%)\n",
        "\n",
        "- **Apartado 3**: Calcular y representar gráficamente en forma de distribución, como se vió en clase, las longitudes en caracteres y en tokens (despues del proceso de limpieza) de los documentos del corpus. (25%)\n",
        "\n",
        "- **Apartado 4**: Cálcular y representar gráficamente en forma de histograma los 10 tokens más utilizados en cada una de las clases del corpus despues del proceso de limpieza (25%)\n",
        "\n",
        "\n",
        "> Nota: Como se dijo en clase, para la obtención de la máxima calificación en los ejercicios es necesario que el código esté apropiadamente comentado indicando el proceso llevado a cabo por el alumno. Además, en el caso de las visualizaciones, deben incorporar **todos** los elementos necesarios para su correcta comprensión (leyenda, rotación de etiquetas si es necesario, etc). "
      ]
    },
    {
      "cell_type": "markdown",
      "metadata": {
        "id": "LAx3OvoISuN4"
      },
      "source": [
        "# Apartado 1\n",
        "## Información básica sobre el dataset: Número de documentos, número de documentos duplicados, número de elementos en cada clase.\n",
        "\n",
        "En primer lugar cargamos la librería pandas "
      ]
    },
    {
      "cell_type": "code",
      "metadata": {
        "id": "fm1wxm8Ba6DT",
        "colab": {
          "base_uri": "https://localhost:8080/"
        },
        "outputId": "6b2c4b56-1240-467b-f1ef-c04f8257f199"
      },
      "source": [
        "import pandas as pd\n",
        "import nltk\n",
        "import matplotlib.pyplot as plt\n",
        "import numpy as np\n",
        "import pandas as pd\n",
        "import seaborn as sns\n",
        "from tqdm.autonotebook import tqdm\n",
        "tqdm.pandas()"
      ],
      "execution_count": null,
      "outputs": [
        {
          "output_type": "stream",
          "text": [
            "/usr/local/lib/python3.7/dist-packages/tqdm/std.py:658: FutureWarning: The Panel class is removed from pandas. Accessing it from the top-level namespace will also be removed in the next version\n",
            "  from pandas import Panel\n"
          ],
          "name": "stderr"
        }
      ]
    },
    {
      "cell_type": "code",
      "metadata": {
        "id": "uq_2awco4TEL",
        "colab": {
          "base_uri": "https://localhost:8080/"
        },
        "outputId": "c6ff13c6-9e21-4470-bc6d-185e61cb1d33"
      },
      "source": [
        "!pip install spacy\n",
        "!python -m spacy download es_core_news_sm\n",
        "# Instalamos nltk\n",
        "!pip install nltk"
      ],
      "execution_count": null,
      "outputs": [
        {
          "output_type": "stream",
          "text": [
            "Requirement already satisfied: spacy in /usr/local/lib/python3.7/dist-packages (2.2.4)\n",
            "Requirement already satisfied: thinc==7.4.0 in /usr/local/lib/python3.7/dist-packages (from spacy) (7.4.0)\n",
            "Requirement already satisfied: requests<3.0.0,>=2.13.0 in /usr/local/lib/python3.7/dist-packages (from spacy) (2.23.0)\n",
            "Requirement already satisfied: numpy>=1.15.0 in /usr/local/lib/python3.7/dist-packages (from spacy) (1.19.5)\n",
            "Requirement already satisfied: setuptools in /usr/local/lib/python3.7/dist-packages (from spacy) (57.2.0)\n",
            "Requirement already satisfied: catalogue<1.1.0,>=0.0.7 in /usr/local/lib/python3.7/dist-packages (from spacy) (1.0.0)\n",
            "Requirement already satisfied: tqdm<5.0.0,>=4.38.0 in /usr/local/lib/python3.7/dist-packages (from spacy) (4.41.1)\n",
            "Requirement already satisfied: plac<1.2.0,>=0.9.6 in /usr/local/lib/python3.7/dist-packages (from spacy) (1.1.3)\n",
            "Requirement already satisfied: preshed<3.1.0,>=3.0.2 in /usr/local/lib/python3.7/dist-packages (from spacy) (3.0.5)\n",
            "Requirement already satisfied: cymem<2.1.0,>=2.0.2 in /usr/local/lib/python3.7/dist-packages (from spacy) (2.0.5)\n",
            "Requirement already satisfied: blis<0.5.0,>=0.4.0 in /usr/local/lib/python3.7/dist-packages (from spacy) (0.4.1)\n",
            "Requirement already satisfied: murmurhash<1.1.0,>=0.28.0 in /usr/local/lib/python3.7/dist-packages (from spacy) (1.0.5)\n",
            "Requirement already satisfied: srsly<1.1.0,>=1.0.2 in /usr/local/lib/python3.7/dist-packages (from spacy) (1.0.5)\n",
            "Requirement already satisfied: wasabi<1.1.0,>=0.4.0 in /usr/local/lib/python3.7/dist-packages (from spacy) (0.8.2)\n",
            "Requirement already satisfied: importlib-metadata>=0.20 in /usr/local/lib/python3.7/dist-packages (from catalogue<1.1.0,>=0.0.7->spacy) (4.6.1)\n",
            "Requirement already satisfied: typing-extensions>=3.6.4 in /usr/local/lib/python3.7/dist-packages (from importlib-metadata>=0.20->catalogue<1.1.0,>=0.0.7->spacy) (3.7.4.3)\n",
            "Requirement already satisfied: zipp>=0.5 in /usr/local/lib/python3.7/dist-packages (from importlib-metadata>=0.20->catalogue<1.1.0,>=0.0.7->spacy) (3.5.0)\n",
            "Requirement already satisfied: certifi>=2017.4.17 in /usr/local/lib/python3.7/dist-packages (from requests<3.0.0,>=2.13.0->spacy) (2021.5.30)\n",
            "Requirement already satisfied: urllib3!=1.25.0,!=1.25.1,<1.26,>=1.21.1 in /usr/local/lib/python3.7/dist-packages (from requests<3.0.0,>=2.13.0->spacy) (1.24.3)\n",
            "Requirement already satisfied: idna<3,>=2.5 in /usr/local/lib/python3.7/dist-packages (from requests<3.0.0,>=2.13.0->spacy) (2.10)\n",
            "Requirement already satisfied: chardet<4,>=3.0.2 in /usr/local/lib/python3.7/dist-packages (from requests<3.0.0,>=2.13.0->spacy) (3.0.4)\n",
            "Collecting es_core_news_sm==2.2.5\n",
            "  Downloading https://github.com/explosion/spacy-models/releases/download/es_core_news_sm-2.2.5/es_core_news_sm-2.2.5.tar.gz (16.2 MB)\n",
            "\u001b[K     |████████████████████████████████| 16.2 MB 1.3 MB/s \n",
            "\u001b[?25hRequirement already satisfied: spacy>=2.2.2 in /usr/local/lib/python3.7/dist-packages (from es_core_news_sm==2.2.5) (2.2.4)\n",
            "Requirement already satisfied: catalogue<1.1.0,>=0.0.7 in /usr/local/lib/python3.7/dist-packages (from spacy>=2.2.2->es_core_news_sm==2.2.5) (1.0.0)\n",
            "Requirement already satisfied: setuptools in /usr/local/lib/python3.7/dist-packages (from spacy>=2.2.2->es_core_news_sm==2.2.5) (57.2.0)\n",
            "Requirement already satisfied: cymem<2.1.0,>=2.0.2 in /usr/local/lib/python3.7/dist-packages (from spacy>=2.2.2->es_core_news_sm==2.2.5) (2.0.5)\n",
            "Requirement already satisfied: srsly<1.1.0,>=1.0.2 in /usr/local/lib/python3.7/dist-packages (from spacy>=2.2.2->es_core_news_sm==2.2.5) (1.0.5)\n",
            "Requirement already satisfied: preshed<3.1.0,>=3.0.2 in /usr/local/lib/python3.7/dist-packages (from spacy>=2.2.2->es_core_news_sm==2.2.5) (3.0.5)\n",
            "Requirement already satisfied: murmurhash<1.1.0,>=0.28.0 in /usr/local/lib/python3.7/dist-packages (from spacy>=2.2.2->es_core_news_sm==2.2.5) (1.0.5)\n",
            "Requirement already satisfied: blis<0.5.0,>=0.4.0 in /usr/local/lib/python3.7/dist-packages (from spacy>=2.2.2->es_core_news_sm==2.2.5) (0.4.1)\n",
            "Requirement already satisfied: wasabi<1.1.0,>=0.4.0 in /usr/local/lib/python3.7/dist-packages (from spacy>=2.2.2->es_core_news_sm==2.2.5) (0.8.2)\n",
            "Requirement already satisfied: thinc==7.4.0 in /usr/local/lib/python3.7/dist-packages (from spacy>=2.2.2->es_core_news_sm==2.2.5) (7.4.0)\n",
            "Requirement already satisfied: numpy>=1.15.0 in /usr/local/lib/python3.7/dist-packages (from spacy>=2.2.2->es_core_news_sm==2.2.5) (1.19.5)\n",
            "Requirement already satisfied: plac<1.2.0,>=0.9.6 in /usr/local/lib/python3.7/dist-packages (from spacy>=2.2.2->es_core_news_sm==2.2.5) (1.1.3)\n",
            "Requirement already satisfied: requests<3.0.0,>=2.13.0 in /usr/local/lib/python3.7/dist-packages (from spacy>=2.2.2->es_core_news_sm==2.2.5) (2.23.0)\n",
            "Requirement already satisfied: tqdm<5.0.0,>=4.38.0 in /usr/local/lib/python3.7/dist-packages (from spacy>=2.2.2->es_core_news_sm==2.2.5) (4.41.1)\n",
            "Requirement already satisfied: importlib-metadata>=0.20 in /usr/local/lib/python3.7/dist-packages (from catalogue<1.1.0,>=0.0.7->spacy>=2.2.2->es_core_news_sm==2.2.5) (4.6.1)\n",
            "Requirement already satisfied: zipp>=0.5 in /usr/local/lib/python3.7/dist-packages (from importlib-metadata>=0.20->catalogue<1.1.0,>=0.0.7->spacy>=2.2.2->es_core_news_sm==2.2.5) (3.5.0)\n",
            "Requirement already satisfied: typing-extensions>=3.6.4 in /usr/local/lib/python3.7/dist-packages (from importlib-metadata>=0.20->catalogue<1.1.0,>=0.0.7->spacy>=2.2.2->es_core_news_sm==2.2.5) (3.7.4.3)\n",
            "Requirement already satisfied: chardet<4,>=3.0.2 in /usr/local/lib/python3.7/dist-packages (from requests<3.0.0,>=2.13.0->spacy>=2.2.2->es_core_news_sm==2.2.5) (3.0.4)\n",
            "Requirement already satisfied: certifi>=2017.4.17 in /usr/local/lib/python3.7/dist-packages (from requests<3.0.0,>=2.13.0->spacy>=2.2.2->es_core_news_sm==2.2.5) (2021.5.30)\n",
            "Requirement already satisfied: urllib3!=1.25.0,!=1.25.1,<1.26,>=1.21.1 in /usr/local/lib/python3.7/dist-packages (from requests<3.0.0,>=2.13.0->spacy>=2.2.2->es_core_news_sm==2.2.5) (1.24.3)\n",
            "Requirement already satisfied: idna<3,>=2.5 in /usr/local/lib/python3.7/dist-packages (from requests<3.0.0,>=2.13.0->spacy>=2.2.2->es_core_news_sm==2.2.5) (2.10)\n",
            "Building wheels for collected packages: es-core-news-sm\n",
            "  Building wheel for es-core-news-sm (setup.py) ... \u001b[?25l\u001b[?25hdone\n",
            "  Created wheel for es-core-news-sm: filename=es_core_news_sm-2.2.5-py3-none-any.whl size=16172932 sha256=20be2f44c0531558f6d7b8e178fa7176fd412928c35cdc4780fdbec8c3d3eef5\n",
            "  Stored in directory: /tmp/pip-ephem-wheel-cache-hp8tiw_p/wheels/21/8d/a9/6c1a2809c55dd22cd9644ae503a52ba6206b04aa57ba83a3d8\n",
            "Successfully built es-core-news-sm\n",
            "Installing collected packages: es-core-news-sm\n",
            "Successfully installed es-core-news-sm-2.2.5\n",
            "\u001b[38;5;2m✔ Download and installation successful\u001b[0m\n",
            "You can now load the model via spacy.load('es_core_news_sm')\n",
            "Requirement already satisfied: nltk in /usr/local/lib/python3.7/dist-packages (3.2.5)\n",
            "Requirement already satisfied: six in /usr/local/lib/python3.7/dist-packages (from nltk) (1.15.0)\n"
          ],
          "name": "stdout"
        }
      ]
    },
    {
      "cell_type": "code",
      "metadata": {
        "id": "zeOC7ty0SDD5"
      },
      "source": [
        "dataset = pd.read_csv(\"tripadvisor_reviews.tsv\", sep = \"\\t\")"
      ],
      "execution_count": null,
      "outputs": []
    },
    {
      "cell_type": "code",
      "metadata": {
        "colab": {
          "base_uri": "https://localhost:8080/",
          "height": 204
        },
        "id": "5szd9pV-TB3R",
        "outputId": "ac9e354a-aa39-4046-a981-ef882169fea7"
      },
      "source": [
        "dataset.head()"
      ],
      "execution_count": null,
      "outputs": [
        {
          "output_type": "execute_result",
          "data": {
            "text/html": [
              "<div>\n",
              "<style scoped>\n",
              "    .dataframe tbody tr th:only-of-type {\n",
              "        vertical-align: middle;\n",
              "    }\n",
              "\n",
              "    .dataframe tbody tr th {\n",
              "        vertical-align: top;\n",
              "    }\n",
              "\n",
              "    .dataframe thead th {\n",
              "        text-align: right;\n",
              "    }\n",
              "</style>\n",
              "<table border=\"1\" class=\"dataframe\">\n",
              "  <thead>\n",
              "    <tr style=\"text-align: right;\">\n",
              "      <th></th>\n",
              "      <th>Review</th>\n",
              "      <th>positive</th>\n",
              "    </tr>\n",
              "  </thead>\n",
              "  <tbody>\n",
              "    <tr>\n",
              "      <th>0</th>\n",
              "      <td>nice hotel expensive parking got good deal sta...</td>\n",
              "      <td>1</td>\n",
              "    </tr>\n",
              "    <tr>\n",
              "      <th>1</th>\n",
              "      <td>ok nothing special charge diamond member hilto...</td>\n",
              "      <td>0</td>\n",
              "    </tr>\n",
              "    <tr>\n",
              "      <th>2</th>\n",
              "      <td>nice rooms not 4* experience hotel monaco seat...</td>\n",
              "      <td>0</td>\n",
              "    </tr>\n",
              "    <tr>\n",
              "      <th>3</th>\n",
              "      <td>unique, great stay, wonderful time hotel monac...</td>\n",
              "      <td>1</td>\n",
              "    </tr>\n",
              "    <tr>\n",
              "      <th>4</th>\n",
              "      <td>great stay great stay, went seahawk game aweso...</td>\n",
              "      <td>1</td>\n",
              "    </tr>\n",
              "  </tbody>\n",
              "</table>\n",
              "</div>"
            ],
            "text/plain": [
              "                                              Review  positive\n",
              "0  nice hotel expensive parking got good deal sta...         1\n",
              "1  ok nothing special charge diamond member hilto...         0\n",
              "2  nice rooms not 4* experience hotel monaco seat...         0\n",
              "3  unique, great stay, wonderful time hotel monac...         1\n",
              "4  great stay great stay, went seahawk game aweso...         1"
            ]
          },
          "metadata": {
            "tags": []
          },
          "execution_count": 4
        }
      ]
    },
    {
      "cell_type": "markdown",
      "metadata": {
        "id": "gmHYGKH6bUNC"
      },
      "source": [
        "Vamos con la recogida de información previa que se nos pide"
      ]
    },
    {
      "cell_type": "code",
      "metadata": {
        "colab": {
          "base_uri": "https://localhost:8080/"
        },
        "id": "B5mYagZ0Sflg",
        "outputId": "8216211e-3ac4-4cf3-bf22-30e841bb1726"
      },
      "source": [
        "print(\"Tenemos un conjunto de {} documentos\".format(dataset.shape[0]))\n",
        "print(\"El dataframe tiene {} columnas\".format(dataset.shape[1]))\n",
        "print(\"Tenemos un conjunto de {} duplicados\".format(np.sum(dataset.duplicated(subset=[\"Review\"]))))"
      ],
      "execution_count": null,
      "outputs": [
        {
          "output_type": "stream",
          "text": [
            "Tenemos un conjunto de 20491 documentos\n",
            "El dataframe tiene 2 columnas\n",
            "Tenemos un conjunto de 0 duplicados\n"
          ],
          "name": "stdout"
        }
      ]
    },
    {
      "cell_type": "markdown",
      "metadata": {
        "id": "EYK-EPrKeaZD"
      },
      "source": [
        "Echamos un vistazo a los NAs que puedan haber en el dataset"
      ]
    },
    {
      "cell_type": "code",
      "metadata": {
        "id": "pAFozxIleXzX",
        "colab": {
          "base_uri": "https://localhost:8080/"
        },
        "outputId": "518ecf3d-013e-484b-9675-fcdb4f3ebced"
      },
      "source": [
        "print(\"Hay {} valores vacíos en las reviews y {} valores vacíos en la columna positiva\".format(np.sum(dataset.isnull())[0], np.sum(dataset.isnull())[1]))"
      ],
      "execution_count": null,
      "outputs": [
        {
          "output_type": "stream",
          "text": [
            "Hay 0 valores vacíos en las reviews y 0 valores vacíos en la columna positiva\n"
          ],
          "name": "stdout"
        }
      ]
    },
    {
      "cell_type": "markdown",
      "metadata": {
        "id": "2rc2WRcWdTpk"
      },
      "source": [
        "Revisemos como es la distribución de clases 0,1"
      ]
    },
    {
      "cell_type": "code",
      "metadata": {
        "colab": {
          "base_uri": "https://localhost:8080/"
        },
        "id": "Qrrx47_PTKUx",
        "outputId": "1457462b-76b9-461a-9506-6a1f1e19d148"
      },
      "source": [
        "dataset.positive.value_counts()"
      ],
      "execution_count": null,
      "outputs": [
        {
          "output_type": "execute_result",
          "data": {
            "text/plain": [
              "1    15093\n",
              "0     5398\n",
              "Name: positive, dtype: int64"
            ]
          },
          "metadata": {
            "tags": []
          },
          "execution_count": 7
        }
      ]
    },
    {
      "cell_type": "code",
      "metadata": {
        "id": "XyBEGaIrb2bD",
        "colab": {
          "base_uri": "https://localhost:8080/",
          "height": 278
        },
        "outputId": "51a621a6-d18e-40f7-9824-47c682fbd750"
      },
      "source": [
        "ax, fig = plt.subplots()\n",
        "etiquetas = dataset.positive.value_counts()\n",
        "etiquetas.plot(kind= 'bar', color= [\"red\", \"green\"])\n",
        "plt.title('Bar chart')\n",
        "plt.show()"
      ],
      "execution_count": null,
      "outputs": [
        {
          "output_type": "display_data",
          "data": {
            "image/png": "[encoded data removed]",
            "text/plain": [
              "<Figure size 432x288 with 1 Axes>"
            ]
          },
          "metadata": {
            "tags": [],
            "needs_background": "light"
          }
        }
      ]
    },
    {
      "cell_type": "markdown",
      "metadata": {
        "id": "bHzbeF6cTFxw"
      },
      "source": [
        "Es evidente que tenemos un problema de clasificación binaria, dado que la valoración positiva se da en la gran mayoría de casos (reviews) y en cambio hay muy pocos casos donde sea mala"
      ]
    },
    {
      "cell_type": "markdown",
      "metadata": {
        "id": "UdnhcE2rTm5h"
      },
      "source": [
        "#Apartado 2\n",
        "## Diseñar funciones para la limpieza de los textos:"
      ]
    },
    {
      "cell_type": "code",
      "metadata": {
        "id": "1Hc7hQbmfQnl",
        "colab": {
          "base_uri": "https://localhost:8080/"
        },
        "outputId": "8c376fed-0dcc-42e9-9d46-c8a3a38679cf"
      },
      "source": [
        "nltk.download('punkt')\n",
        "nltk.download('wordnet')\n",
        "nltk.download('averaged_perceptron_tagger')\n",
        "nltk.download('tagsets')\n",
        "nltk.download('maxent_ne_chunker')\n",
        "nltk.download('words')\n",
        "nltk.download('stopwords')\n",
        "from nltk.corpus import stopwords\n",
        "nltk.download('stopwords')\n",
        "from nltk.tokenize import word_tokenize\n",
        "import string\n",
        "import es_core_news_sm"
      ],
      "execution_count": null,
      "outputs": [
        {
          "output_type": "stream",
          "text": [
            "[nltk_data] Downloading package punkt to /root/nltk_data...\n",
            "[nltk_data]   Package punkt is already up-to-date!\n",
            "[nltk_data] Downloading package wordnet to /root/nltk_data...\n",
            "[nltk_data]   Package wordnet is already up-to-date!\n",
            "[nltk_data] Downloading package averaged_perceptron_tagger to\n",
            "[nltk_data]     /root/nltk_data...\n",
            "[nltk_data]   Package averaged_perceptron_tagger is already up-to-\n",
            "[nltk_data]       date!\n",
            "[nltk_data] Downloading package tagsets to /root/nltk_data...\n",
            "[nltk_data]   Package tagsets is already up-to-date!\n",
            "[nltk_data] Downloading package maxent_ne_chunker to\n",
            "[nltk_data]     /root/nltk_data...\n",
            "[nltk_data]   Package maxent_ne_chunker is already up-to-date!\n",
            "[nltk_data] Downloading package words to /root/nltk_data...\n",
            "[nltk_data]   Package words is already up-to-date!\n",
            "[nltk_data] Downloading package stopwords to /root/nltk_data...\n",
            "[nltk_data]   Package stopwords is already up-to-date!\n",
            "[nltk_data] Downloading package stopwords to /root/nltk_data...\n",
            "[nltk_data]   Package stopwords is already up-to-date!\n"
          ],
          "name": "stdout"
        }
      ]
    },
    {
      "cell_type": "markdown",
      "metadata": {
        "id": "b_QCdA9FgkE8"
      },
      "source": [
        "### 2.1 Quitar palabras vacías"
      ]
    },
    {
      "cell_type": "code",
      "metadata": {
        "id": "YsMqtdO9k8Jo"
      },
      "source": [
        "def quit_empty_words(text):\n",
        "  text_tokens = word_tokenize(text)\n",
        "  text_tokenized = [word for word in text_tokens if not word in stopwords.words('english')]\n",
        "  return \" \".join(text_tokenized)"
      ],
      "execution_count": null,
      "outputs": []
    },
    {
      "cell_type": "code",
      "metadata": {
        "id": "INbKJ-Kv52pD",
        "colab": {
          "base_uri": "https://localhost:8080/",
          "height": 66,
          "referenced_widgets": [
            "21f63157ad7d4eb9aabcb6796afa50b6",
            "24ee2cd0d082428abf90b522a86f9530",
            "c2e47b7aa1af42f4ba019a138c639b3f",
            "597d12827dea469e815dae685cca684f",
            "0ea7a899fe5a460687827debb3d2b862",
            "d3d3404e24a24f1caa3dadb035c68c78",
            "2a48be0bf6064489b45a4f1323cd0c73",
            "266e0c3fb77a46138532d84b7f740caf"
          ]
        },
        "outputId": "f286910d-1ab5-4520-b8e8-29661fbd136c"
      },
      "source": [
        "dataset['text_processed']= dataset[\"Review\"].progress_apply(lambda x: quit_empty_words(x))"
      ],
      "execution_count": null,
      "outputs": [
        {
          "output_type": "display_data",
          "data": {
            "application/vnd.jupyter.widget-view+json": {
              "model_id": "21f63157ad7d4eb9aabcb6796afa50b6",
              "version_minor": 0,
              "version_major": 2
            },
            "text/plain": [
              "HBox(children=(FloatProgress(value=0.0, max=20491.0), HTML(value='')))"
            ]
          },
          "metadata": {
            "tags": []
          }
        },
        {
          "output_type": "stream",
          "text": [
            "\n"
          ],
          "name": "stdout"
        }
      ]
    },
    {
      "cell_type": "code",
      "metadata": {
        "colab": {
          "base_uri": "https://localhost:8080/"
        },
        "id": "fjrZaZIkQHEu",
        "outputId": "b01665cd-7492-40ca-9189-87320e2d424f"
      },
      "source": [
        "dataset['text_processed']"
      ],
      "execution_count": null,
      "outputs": [
        {
          "output_type": "execute_result",
          "data": {
            "text/plain": [
              "0        nice hotel expensive parking got good deal sta...\n",
              "1        ok nothing special charge diamond member hilto...\n",
              "2        nice rooms 4* experience hotel monaco seattle ...\n",
              "3        unique , great stay , wonderful time hotel mon...\n",
              "4        great stay great stay , went seahawk game awes...\n",
              "                               ...                        \n",
              "20486    best kept secret 3rd time staying charm , 5-st...\n",
              "20487    great location price view hotel great quick pl...\n",
              "20488    ok looks nice modern outside , desk staff n't ...\n",
              "20489    hotel theft ruined vacation hotel opened sept ...\n",
              "20490    people talking , ca n't believe excellent rati...\n",
              "Name: text_processed, Length: 20491, dtype: object"
            ]
          },
          "metadata": {
            "tags": []
          },
          "execution_count": 9
        }
      ]
    },
    {
      "cell_type": "markdown",
      "metadata": {
        "id": "6V489wn219i6"
      },
      "source": [
        "### 2.2 Quitar símbolos de puntuación.\n"
      ]
    },
    {
      "cell_type": "code",
      "metadata": {
        "id": "66W843dUX3Z5"
      },
      "source": [
        "def remove_punctuations(text):\n",
        "    for punctuation in string.punctuation:\n",
        "        text = text.replace(punctuation, '')\n",
        "    return text"
      ],
      "execution_count": null,
      "outputs": []
    },
    {
      "cell_type": "code",
      "metadata": {
        "id": "162pS99RXmYr"
      },
      "source": [
        "dataset['text_processed']= dataset[\"text_processed\"].apply(remove_punctuations)"
      ],
      "execution_count": null,
      "outputs": []
    },
    {
      "cell_type": "markdown",
      "metadata": {
        "id": "yRzJXkLa38-6"
      },
      "source": [
        "### 2.3 Lematización con Spacy"
      ]
    },
    {
      "cell_type": "code",
      "metadata": {
        "id": "lqZA49G138qR"
      },
      "source": [
        "nlp = es_core_news_sm.load(disable=['parser', 'ner'])\n",
        "def lematizar(words):\n",
        "    mytokens = nlp(words)\n",
        "    # Lematizamos los tokens y los convertimos  a minusculas\n",
        "    mytokens = [ word.lemma_ if word.lemma_ != \"-PRON-\" else word.lower_ for word in mytokens ]\n",
        "    # Extraemos el text en una string\n",
        "    return \" \".join(mytokens)"
      ],
      "execution_count": null,
      "outputs": []
    },
    {
      "cell_type": "code",
      "metadata": {
        "id": "mrma3VNn_AD_",
        "colab": {
          "base_uri": "https://localhost:8080/",
          "height": 66,
          "referenced_widgets": [
            "2141e71ceb50400ea90694a16ba90a3d",
            "3cf3059e3dc340419c690e3ffecbdf00",
            "7ee5554631644254a51402a23701faaf",
            "15379a169a994679ae5abb58c7131d5a",
            "79b674674af142c3b4f43125982fe320",
            "8a1ecb4b97e5474abd0e7ed172bfa7a2",
            "b974b1ac3d28448782b71436b6104c15",
            "df7fc84e7e44427c94e83b4e0f033aef"
          ]
        },
        "outputId": "701157eb-287c-4d6a-864f-987e7ca8d1be"
      },
      "source": [
        "dataset['text_processed']= dataset[\"text_processed\"].progress_apply(lambda x: lematizar(x))"
      ],
      "execution_count": null,
      "outputs": [
        {
          "output_type": "display_data",
          "data": {
            "application/vnd.jupyter.widget-view+json": {
              "model_id": "2141e71ceb50400ea90694a16ba90a3d",
              "version_minor": 0,
              "version_major": 2
            },
            "text/plain": [
              "HBox(children=(FloatProgress(value=0.0, max=20491.0), HTML(value='')))"
            ]
          },
          "metadata": {
            "tags": []
          }
        },
        {
          "output_type": "stream",
          "text": [
            "\n"
          ],
          "name": "stdout"
        }
      ]
    },
    {
      "cell_type": "markdown",
      "metadata": {
        "id": "cKPeFYBZ4B04"
      },
      "source": [
        "### 2.4 Tokenización con NLTK"
      ]
    },
    {
      "cell_type": "code",
      "metadata": {
        "id": "QWjk9XVIImoB"
      },
      "source": [
        "def tokenize_text(words):\n",
        "  sentence = word_tokenize(words)\n",
        "  return sentence\n"
      ],
      "execution_count": null,
      "outputs": []
    },
    {
      "cell_type": "code",
      "metadata": {
        "id": "nIaDTEebJHZ2",
        "colab": {
          "base_uri": "https://localhost:8080/",
          "height": 66,
          "referenced_widgets": [
            "6e5502f8cf404ee4a86a3ce86b3a2f4c",
            "bdef3fb6f1eb486aaa65a2920d651999",
            "3a8e35c6d3734821ae957feab7d3bb4f",
            "e2a857cb809a465199bf0623569af929",
            "69044174a9114e85814e535ec4c2f10f",
            "4ce7e3bbca40400a82d3431fe97d6048",
            "38e8752adb0d4dd4a813c7c3640e68a8",
            "d5db722952cb4c8482569637eb0b7d29"
          ]
        },
        "outputId": "49d77680-b91c-4774-8577-4670030befec"
      },
      "source": [
        "dataset['text_processed']= dataset[\"text_processed\"].progress_apply(lambda x: tokenize_text(x))"
      ],
      "execution_count": null,
      "outputs": [
        {
          "output_type": "display_data",
          "data": {
            "application/vnd.jupyter.widget-view+json": {
              "model_id": "6e5502f8cf404ee4a86a3ce86b3a2f4c",
              "version_minor": 0,
              "version_major": 2
            },
            "text/plain": [
              "HBox(children=(FloatProgress(value=0.0, max=20491.0), HTML(value='')))"
            ]
          },
          "metadata": {
            "tags": []
          }
        },
        {
          "output_type": "stream",
          "text": [
            "\n"
          ],
          "name": "stdout"
        }
      ]
    },
    {
      "cell_type": "code",
      "metadata": {
        "colab": {
          "base_uri": "https://localhost:8080/"
        },
        "id": "XBDQmfkmSv_R",
        "outputId": "9f30eadc-de5a-4744-da33-0820989c0364"
      },
      "source": [
        "dataset['text_processed']"
      ],
      "execution_count": null,
      "outputs": [
        {
          "output_type": "execute_result",
          "data": {
            "text/plain": [
              "0        [nice, hotel, expensive, parking, got, good, d...\n",
              "1        [ok, nothing, special, charge, diamond, member...\n",
              "2        [nice, rooms, 4, experience, hotel, monaco, se...\n",
              "3        [unique, great, stay, wonderful, timar, hotel,...\n",
              "4        [great, stay, great, stay, went, seahawk, game...\n",
              "                               ...                        \n",
              "20486    [best, kept, secret, 3rd, timar, staying, char...\n",
              "20487    [great, location, price, view, hotel, great, q...\n",
              "20488    [ok, look, nice, modern, outside, desk, staff,...\n",
              "20489    [hotel, theft, ruined, vacation, hotel, opened...\n",
              "20490    [people, talking, ca, nt, believe, excellent, ...\n",
              "Name: text_processed, Length: 20491, dtype: object"
            ]
          },
          "metadata": {
            "tags": []
          },
          "execution_count": 26
        }
      ]
    },
    {
      "cell_type": "markdown",
      "metadata": {
        "id": "HuM97Se6JvAC"
      },
      "source": [
        "#Apartado 3\n",
        "## Calcular y representar gráficamente en forma de distribución, como se vio en clase, las longitudes en caracteres y en tokens (después del proceso de limpieza) de los documentos del corpus"
      ]
    },
    {
      "cell_type": "markdown",
      "metadata": {
        "id": "9Ab1rK0wfrgA"
      },
      "source": [
        "Necesitamos iterar a través de todas las palabras en todos los documentos y almacenar las identificaciones del documento para cada palabra"
      ]
    },
    {
      "cell_type": "code",
      "metadata": {
        "id": "Z41rheDzdXpP"
      },
      "source": [
        "DF = {}\n",
        "for i in range(len(dataset[\"text_processed\"])):\n",
        "    tokens = dataset[\"text_processed\"][i]\n",
        "    for w in tokens:\n",
        "        try:\n",
        "            DF[w].add(i)\n",
        "        except:\n",
        "            DF[w] = {i}"
      ],
      "execution_count": null,
      "outputs": []
    },
    {
      "cell_type": "markdown",
      "metadata": {
        "id": "SU3ul_RJfuep"
      },
      "source": [
        "DF tendrá la palabra como clave y la lista de identificaciones de documentos como valor"
      ]
    },
    {
      "cell_type": "code",
      "metadata": {
        "colab": {
          "base_uri": "https://localhost:8080/"
        },
        "id": "d3FtcfOjdnNw",
        "outputId": "e6024e14-5138-46fe-b1f4-2c0d47caedf1"
      },
      "source": [
        "for i in DF:\n",
        "  DF[i]= len(DF[i])\n",
        "DF"
      ],
      "execution_count": null,
      "outputs": [
        {
          "output_type": "execute_result",
          "data": {
            "text/plain": [
              "{'nice': 7415,\n",
              " 'hotel': 16319,\n",
              " 'expensive': 1671,\n",
              " 'parking': 1112,\n",
              " 'got': 4162,\n",
              " 'good': 9277,\n",
              " 'deal': 1263,\n",
              " 'stay': 10094,\n",
              " 'anniversary': 339,\n",
              " 'arrived': 2385,\n",
              " 'latir': 1375,\n",
              " 'evening': 1541,\n",
              " 'took': 2293,\n",
              " 'advice': 474,\n",
              " 'previous': 668,\n",
              " 'reviews': 3085,\n",
              " 'valet': 401,\n",
              " 'check': 2218,\n",
              " 'quick': 795,\n",
              " 'easy': 1888,\n",
              " 'little': 4403,\n",
              " 'disappointed': 1117,\n",
              " 'nonexistent': 62,\n",
              " 'view': 3417,\n",
              " 'room': 14049,\n",
              " 'clean': 7648,\n",
              " 'size': 1743,\n",
              " 'bed': 3775,\n",
              " 'comfortable': 3833,\n",
              " 'woke': 128,\n",
              " 'stiff': 27,\n",
              " 'neck': 30,\n",
              " 'high': 1495,\n",
              " 'pillows': 569,\n",
              " 'soundproof': 46,\n",
              " 'like': 5327,\n",
              " 'heard': 728,\n",
              " 'music': 710,\n",
              " 'night': 6328,\n",
              " 'morning': 2584,\n",
              " 'loud': 526,\n",
              " 'bangs': 4,\n",
              " 'doors': 583,\n",
              " 'opening': 168,\n",
              " 'closing': 101,\n",
              " 'hear': 884,\n",
              " 'people': 4123,\n",
              " 'talking': 279,\n",
              " 'hallway': 200,\n",
              " 'maybe': 776,\n",
              " 'noisy': 897,\n",
              " 'neighbors': 71,\n",
              " 'aveda': 72,\n",
              " 'bath': 1001,\n",
              " 'products': 196,\n",
              " 'goldfish': 14,\n",
              " 'touch': 623,\n",
              " 'taken': 715,\n",
              " 'advantage': 306,\n",
              " 'staying': 2157,\n",
              " 'longer': 406,\n",
              " 'location': 8164,\n",
              " 'great': 11020,\n",
              " 'walking': 2567,\n",
              " 'distance': 1638,\n",
              " 'shopping': 1674,\n",
              " 'overall': 1941,\n",
              " 'experience': 2643,\n",
              " 'pay': 1572,\n",
              " '40': 350,\n",
              " 'ok': 1714,\n",
              " 'nothing': 1951,\n",
              " 'special': 1138,\n",
              " 'charge': 939,\n",
              " 'diamond': 142,\n",
              " 'member': 383,\n",
              " 'hilton': 457,\n",
              " 'decided': 903,\n",
              " 'chain': 332,\n",
              " 'shot': 74,\n",
              " '20th': 88,\n",
              " 'seattle': 446,\n",
              " 'start': 891,\n",
              " 'booked': 3172,\n",
              " 'suite': 1839,\n",
              " 'paid': 1433,\n",
              " 'extra': 1683,\n",
              " 'website': 879,\n",
              " 'description': 66,\n",
              " 'bedroom': 673,\n",
              " 'bathroom': 4253,\n",
              " 'standard': 1667,\n",
              " 'printed': 75,\n",
              " 'reservation': 779,\n",
              " 'desk': 3190,\n",
              " 'showed': 322,\n",
              " 'said': 1872,\n",
              " 'things': 1867,\n",
              " 'tv': 1717,\n",
              " 'couch': 128,\n",
              " 'ect': 38,\n",
              " 'clerk': 224,\n",
              " 'told': 1758,\n",
              " 'oh': 436,\n",
              " 'mixed': 306,\n",
              " 'kimpton': 34,\n",
              " 'sorry': 256,\n",
              " 'free': 3065,\n",
              " 'breakfast': 7111,\n",
              " 'kidding': 40,\n",
              " 'embassy': 85,\n",
              " 'suits': 65,\n",
              " 'sitting': 545,\n",
              " 'unlike': 218,\n",
              " 'calls': 293,\n",
              " '5': 3408,\n",
              " 'day': 5670,\n",
              " 'offer': 849,\n",
              " 'correct': 152,\n",
              " 'false': 38,\n",
              " 'advertising': 27,\n",
              " 'send': 225,\n",
              " 'preferred': 213,\n",
              " 'guest': 734,\n",
              " 'email': 445,\n",
              " 'asking': 398,\n",
              " 'failure': 8,\n",
              " 'provide': 431,\n",
              " 'advertised': 159,\n",
              " 'furnished': 301,\n",
              " 'hard': 1531,\n",
              " 'copy': 57,\n",
              " 'printout': 16,\n",
              " 'manager': 882,\n",
              " 'duty': 156,\n",
              " 'reply': 46,\n",
              " 'solution': 37,\n",
              " 'trip': 3593,\n",
              " 'survey': 14,\n",
              " 'follow': 108,\n",
              " 'mail': 43,\n",
              " 'guess': 540,\n",
              " 'tell': 775,\n",
              " 'concerned': 296,\n",
              " 'guestthe': 6,\n",
              " 'staff': 11522,\n",
              " 'ranged': 38,\n",
              " 'indifferent': 61,\n",
              " 'helpful': 5050,\n",
              " 'asked': 1857,\n",
              " 'spot': 734,\n",
              " 'neighborhood': 390,\n",
              " 'hood': 4,\n",
              " 'hotels': 3243,\n",
              " 'gee': 5,\n",
              " 'best': 4264,\n",
              " '12': 890,\n",
              " 'block': 942,\n",
              " 'away': 3219,\n",
              " 'convenient': 1113,\n",
              " 'know': 1997,\n",
              " 'exist': 44,\n",
              " '11': 567,\n",
              " 'pm': 547,\n",
              " 'inside': 585,\n",
              " 'run': 803,\n",
              " 'bellman': 133,\n",
              " 'busy': 1031,\n",
              " 'chating': 1,\n",
              " 'cell': 99,\n",
              " 'phone': 661,\n",
              " 'help': 1415,\n",
              " 'bagsprior': 1,\n",
              " 'arrival': 1023,\n",
              " 'emailed': 159,\n",
              " 'inform': 40,\n",
              " 'half': 874,\n",
              " 'really': 4882,\n",
              " 'picky': 288,\n",
              " 'wanted': 1757,\n",
              " 'make': 3071,\n",
              " 'sure': 2212,\n",
              " 'saying': 440,\n",
              " 'deliver': 83,\n",
              " 'bottle': 645,\n",
              " 'champagne': 419,\n",
              " 'chocolate': 481,\n",
              " 'covered': 253,\n",
              " 'strawberries': 53,\n",
              " 'celebrate': 140,\n",
              " 'needed': 1259,\n",
              " 'foam': 25,\n",
              " 'alley': 108,\n",
              " 'rise': 53,\n",
              " 'building': 1378,\n",
              " 'better': 3242,\n",
              " 'housekeeping': 626,\n",
              " 'cleaner': 105,\n",
              " 'property': 915,\n",
              " 'impressed': 721,\n",
              " 'left': 1980,\n",
              " 'short': 1585,\n",
              " 'trips': 444,\n",
              " '2': 3949,\n",
              " 'hours': 1537,\n",
              " 'beds': 2249,\n",
              " 'comfortablenot': 1,\n",
              " 'acheat': 1,\n",
              " 'control': 198,\n",
              " '4': 2723,\n",
              " 'x': 56,\n",
              " 'inch': 106,\n",
              " 'screen': 473,\n",
              " 'bring': 1033,\n",
              " 'green': 242,\n",
              " 'shine': 20,\n",
              " 'directly': 628,\n",
              " 'eyes': 107,\n",
              " 'light': 1116,\n",
              " 'sensitive': 68,\n",
              " 'tapar': 178,\n",
              " 'controlsthis': 1,\n",
              " 'business': 1333,\n",
              " 'super': 535,\n",
              " 'rates': 411,\n",
              " 'rooms': 8336,\n",
              " 'monaco': 27,\n",
              " 'nt': 8379,\n",
              " 'levelpositives': 1,\n",
              " 'large': 2944,\n",
              " 'mediterranean': 62,\n",
              " 'pillowsattentive': 1,\n",
              " 'staffnegatives': 4,\n",
              " 'ac': 565,\n",
              " 'unit': 146,\n",
              " 'malfunctioned': 7,\n",
              " 'disorganized': 35,\n",
              " 'missed': 281,\n",
              " '3': 3487,\n",
              " 'separate': 523,\n",
              " 'wakeup': 39,\n",
              " 'concierge': 1018,\n",
              " 'guidance': 16,\n",
              " 'requeststv': 1,\n",
              " 'usar': 2352,\n",
              " 'ipod': 79,\n",
              " 'sound': 359,\n",
              " 'dock': 49,\n",
              " 'non': 235,\n",
              " 'functioning': 20,\n",
              " 'book': 1347,\n",
              " 'weekend': 1314,\n",
              " '1st': 294,\n",
              " 'choice': 1491,\n",
              " 'rest': 830,\n",
              " 'party': 623,\n",
              " 'filled': 301,\n",
              " 'comparison': 147,\n",
              " 'w': 245,\n",
              " 'spent': 1593,\n",
              " '45': 360,\n",
              " 'larger': 477,\n",
              " 'square': 1276,\n",
              " 'footage': 7,\n",
              " 'soaking': 66,\n",
              " 'tub': 684,\n",
              " 'whirlpool': 38,\n",
              " 'jet': 134,\n",
              " 'showerbefore': 1,\n",
              " 'arrange': 113,\n",
              " 'car': 1355,\n",
              " 'service': 6228,\n",
              " 'price': 3020,\n",
              " '53': 15,\n",
              " 'tip': 861,\n",
              " 'reasonable': 834,\n",
              " 'driver': 483,\n",
              " 'waiting': 752,\n",
              " 'arrivalcheckin': 1,\n",
              " 'downside': 295,\n",
              " 'picked': 379,\n",
              " 'person': 1193,\n",
              " 'jacuzi': 9,\n",
              " 'accessories': 16,\n",
              " 'salts': 15,\n",
              " 'bubble': 39,\n",
              " '121a': 1,\n",
              " 'checked': 1222,\n",
              " 'voucher': 59,\n",
              " 'gesture': 50,\n",
              " 'fish': 436,\n",
              " 'impression': 254,\n",
              " 'huge': 1673,\n",
              " 'open': 1690,\n",
              " 'space': 1023,\n",
              " 'felt': 1605,\n",
              " 'big': 2457,\n",
              " 'far': 1905,\n",
              " 'chore': 12,\n",
              " 'change': 868,\n",
              " 'channel': 92,\n",
              " 'broken': 347,\n",
              " 'disappointingin': 1,\n",
              " 'way': 3219,\n",
              " 'thermostat': 44,\n",
              " '65f': 1,\n",
              " '74': 10,\n",
              " 'degrees': 115,\n",
              " 'warm': 1053,\n",
              " 'try': 1917,\n",
              " 'cover': 179,\n",
              " 'face': 313,\n",
              " 'bright': 271,\n",
              " 'blue': 446,\n",
              " 'kept': 1142,\n",
              " 'drop': 240,\n",
              " 'called': 1320,\n",
              " 'maintainence': 6,\n",
              " 'came': 1583,\n",
              " 'look': 1822,\n",
              " 'play': 321,\n",
              " 'settings': 19,\n",
              " 'happy': 1390,\n",
              " 'digital': 40,\n",
              " 'box': 236,\n",
              " 'wo': 556,\n",
              " 'work': 1592,\n",
              " '10': 2256,\n",
              " 'a.m.': 629,\n",
              " 'happen': 233,\n",
              " 'later': 947,\n",
              " '6': 1307,\n",
              " 'p.m.': 710,\n",
              " 'nap': 62,\n",
              " 'forgot': 218,\n",
              " 'yep': 12,\n",
              " 'forgottenthe': 2,\n",
              " 'facilities': 912,\n",
              " 'surprised': 640,\n",
              " 'sold': 132,\n",
              " 'amenities': 704,\n",
              " 'relax': 635,\n",
              " 'water': 3024,\n",
              " 'going': 2588,\n",
              " 'unique': 235,\n",
              " 'wonderful': 3037,\n",
              " 'timar': 7294,\n",
              " 'excellent': 4421,\n",
              " 'stroll': 189,\n",
              " 'main': 1910,\n",
              " 'downtown': 636,\n",
              " 'area': 4149,\n",
              " 'pet': 43,\n",
              " 'friendly': 5834,\n",
              " 'signs': 148,\n",
              " 'animal': 34,\n",
              " 'hair': 293,\n",
              " 'smells': 109,\n",
              " 'sleeping': 347,\n",
              " 'striped': 7,\n",
              " 'curtains': 187,\n",
              " 'pulled': 135,\n",
              " 'closed': 539,\n",
              " 'cosy': 122,\n",
              " 'named': 85,\n",
              " 'brandi': 2,\n",
              " 'enjoyed': 2017,\n",
              " 'partake': 25,\n",
              " 'wine': 992,\n",
              " 'coffeetea': 44,\n",
              " 'lobby': 2561,\n",
              " 'thought': 1604,\n",
              " 'feature': 147,\n",
              " 'wireless': 332,\n",
              " 'internet': 1911,\n",
              " 'worked': 861,\n",
              " 'laptops': 25,\n",
              " 'decor': 818,\n",
              " 'lovely': 2279,\n",
              " 'eclectic': 16,\n",
              " 'mix': 162,\n",
              " 'pattens': 1,\n",
              " 'color': 85,\n",
              " 'palatte': 1,\n",
              " 'print': 105,\n",
              " 'bathrobes': 111,\n",
              " 'feel': 1931,\n",
              " 'rock': 344,\n",
              " 'star': 1904,\n",
              " 'sterile': 20,\n",
              " 'personality': 46,\n",
              " 'went': 3179,\n",
              " 'seahawk': 1,\n",
              " 'game': 219,\n",
              " 'awesome': 727,\n",
              " 'downfall': 42,\n",
              " 'complain': 487,\n",
              " 'package': 489,\n",
              " 'taxi': 1234,\n",
              " 'problem': 2290,\n",
              " 'want': 3137,\n",
              " 'accept': 120,\n",
              " 'barely': 206,\n",
              " 'spoke': 746,\n",
              " 'english': 1701,\n",
              " 'funny': 220,\n",
              " 'thing': 1962,\n",
              " 'speak': 940,\n",
              " 'arabic': 2,\n",
              " 'started': 459,\n",
              " 'making': 875,\n",
              " 'comments': 363,\n",
              " 'girlfriend': 236,\n",
              " 'buddy': 9,\n",
              " 'second': 1315,\n",
              " 'realize': 167,\n",
              " 'fact': 995,\n",
              " 'language': 389,\n",
              " 'priceless': 15,\n",
              " 'ass': 6,\n",
              " 'city': 3036,\n",
              " 'head': 567,\n",
              " 'doorman': 138,\n",
              " 'issue': 588,\n",
              " 'cab': 548,\n",
              " 'company': 328,\n",
              " 'promply': 3,\n",
              " 'answer': 218,\n",
              " 'apologized': 52,\n",
              " 'offered': 974,\n",
              " 'bucks': 165,\n",
              " 'mil': 202,\n",
              " 'stadium': 50,\n",
              " 'plan': 596,\n",
              " 'return': 1908,\n",
              " 'humpin': 1,\n",
              " 'walk': 4640,\n",
              " 'mind': 815,\n",
              " 'right': 3318,\n",
              " 'christmas': 238,\n",
              " 'homeless': 55,\n",
              " 'stowed': 7,\n",
              " 'entrances': 17,\n",
              " 'leave': 1236,\n",
              " 'police': 136,\n",
              " 'presence': 42,\n",
              " 'greatest': 123,\n",
              " 'activities': 704,\n",
              " '7': 1058,\n",
              " 'blocks': 897,\n",
              " 'pike': 155,\n",
              " 'street': 2768,\n",
              " 'waterfront': 108,\n",
              " 'coffee': 1887,\n",
              " 'shops': 1032,\n",
              " 'mantained': 4,\n",
              " 'foyer': 95,\n",
              " 'tasting': 94,\n",
              " 'available': 1606,\n",
              " 'dog': 106,\n",
              " 'taking': 679,\n",
              " 'st': 544,\n",
              " 'bernard': 4,\n",
              " 'family': 1573,\n",
              " 'safes': 25,\n",
              " 'located': 2039,\n",
              " 'jetted': 8,\n",
              " 'house': 800,\n",
              " 'keeping': 206,\n",
              " 'walked': 974,\n",
              " 'getting': 1579,\n",
              " 'dressed': 129,\n",
              " 'knock': 63,\n",
              " 'turn': 582,\n",
              " 'screamed': 7,\n",
              " 'screams': 6,\n",
              " 'hit': 320,\n",
              " 'floor': 3438,\n",
              " 'laughing': 40,\n",
              " 'spanish': 882,\n",
              " 'placer': 6352,\n",
              " 'recommend': 4240,\n",
              " 'online': 360,\n",
              " 'deals': 124,\n",
              " 'besite': 1,\n",
              " 'contains': 26,\n",
              " 'vouchers': 51,\n",
              " 'travel': 1330,\n",
              " 'love': 963,\n",
              " 'husband': 1947,\n",
              " 'stayed': 8549,\n",
              " 'crazy': 185,\n",
              " 'attending': 90,\n",
              " 'memorial': 50,\n",
              " 'friend': 509,\n",
              " 'celebrating': 80,\n",
              " '12th': 73,\n",
              " 'wedding': 418,\n",
              " 'talk': 275,\n",
              " 'emotions': 3,\n",
              " 'montar': 13,\n",
              " 'carlos': 69,\n",
              " 'loaned': 10,\n",
              " 'beautiful': 3396,\n",
              " 'fantanned': 1,\n",
              " 'joliet': 1,\n",
              " 'visited': 509,\n",
              " 'dogs': 120,\n",
              " 'human': 29,\n",
              " 'companions': 12,\n",
              " 'decorated': 788,\n",
              " 'nicely': 622,\n",
              " 'used': 1570,\n",
              " 'loccitane': 17,\n",
              " 'welcome': 681,\n",
              " 'sight': 221,\n",
              " 'quiet': 2457,\n",
              " 'peaceful': 216,\n",
              " 'access': 1424,\n",
              " 'server': 65,\n",
              " 'leaving': 567,\n",
              " 'problems': 1232,\n",
              " 'printing': 33,\n",
              " 'boarding': 120,\n",
              " 'passes': 113,\n",
              " 'afternoon': 670,\n",
              " 'reception': 1604,\n",
              " 'serves': 155,\n",
              " 'oenophilesatisfying': 1,\n",
              " 'australia': 119,\n",
              " 'scrumptious': 9,\n",
              " 'cookies': 180,\n",
              " 'restaurant': 3691,\n",
              " 'renovation': 178,\n",
              " 'finally': 662,\n",
              " 'atar': 1196,\n",
              " 'food': 5470,\n",
              " 'drinks': 1862,\n",
              " 'word': 312,\n",
              " 'caution': 76,\n",
              " 'sit': 674,\n",
              " 'booths': 12,\n",
              " 'fit': 276,\n",
              " '56': 57,\n",
              " '125': 54,\n",
              " 'lbs': 11,\n",
              " '59': 12,\n",
              " '175': 19,\n",
              " 'table': 793,\n",
              " 'smackagainst': 1,\n",
              " 'stomach': 198,\n",
              " 'couple': 1717,\n",
              " 'mighty': 7,\n",
              " 'uncomfortable': 259,\n",
              " 'patron': 9,\n",
              " 'pregnant': 27,\n",
              " 'bad': 2207,\n",
              " 'design': 353,\n",
              " 'opinion': 373,\n",
              " 'funky': 155,\n",
              " 'welcoming': 433,\n",
              " 'metal': 53,\n",
              " 'wood': 136,\n",
              " 'handblown': 1,\n",
              " 'glass': 656,\n",
              " 'fixtures': 116,\n",
              " 'expect': 1463,\n",
              " 'capital': 40,\n",
              " 'artículo': 312,\n",
              " 'industry': 47,\n",
              " 'definitely': 2703,\n",
              " 'reason': 518,\n",
              " 'cozy': 220,\n",
              " 'rainy': 76,\n",
              " 'nights': 3871,\n",
              " 'early': 1763,\n",
              " 'january': 251,\n",
              " '2008': 304,\n",
              " 'chance': 343,\n",
              " 'comer': 2017,\n",
              " 'ridewe': 2,\n",
              " 'carlo': 13,\n",
              " 'proved': 83,\n",
              " 'longish': 4,\n",
              " '905': 4,\n",
              " 'noise': 1757,\n",
              " 'interesting': 426,\n",
              " 'dank': 9,\n",
              " 'midsection': 1,\n",
              " 'office': 282,\n",
              " 'plenty': 1465,\n",
              " 'spread': 181,\n",
              " 'attractive': 204,\n",
              " 'squeaky': 19,\n",
              " 'small': 4844,\n",
              " 'generous': 130,\n",
              " 'proportions': 3,\n",
              " 'areas': 972,\n",
              " 'lots': 1659,\n",
              " 'seating': 196,\n",
              " 'options': 376,\n",
              " 'lighting': 260,\n",
              " 'storage': 186,\n",
              " 'clothing': 79,\n",
              " 'luggage': 945,\n",
              " 'efficient': 637,\n",
              " 'job': 568,\n",
              " 'pleasant': 1397,\n",
              " 'requests': 217,\n",
              " 'responder': 61,\n",
              " 'quicklythe': 6,\n",
              " 'quitar': 2689,\n",
              " 'market': 782,\n",
              " 'museum': 348,\n",
              " 'notch': 174,\n",
              " 'dining': 664,\n",
              " 'optionsa': 1,\n",
              " 'positive': 492,\n",
              " 'quality': 1293,\n",
              " 'chocked': 3,\n",
              " 'home': 1646,\n",
              " 'experienced': 441,\n",
              " 'exceptional': 339,\n",
              " 'door': 2123,\n",
              " 'men': 248,\n",
              " 'maid': 639,\n",
              " 'needs': 747,\n",
              " 'failed': 90,\n",
              " 'tuck': 9,\n",
              " 'sheets': 428,\n",
              " 'foot': 305,\n",
              " 'instance': 50,\n",
              " 'soiled': 11,\n",
              " 'quickley': 1,\n",
              " 'resolver': 85,\n",
              " 'relatar': 10,\n",
              " 'employee': 123,\n",
              " 'reflection': 29,\n",
              " 'staffwe': 18,\n",
              " 'received': 620,\n",
              " 'regarding': 174,\n",
              " 'resturants': 150,\n",
              " 'hour': 1489,\n",
              " 'homegreat': 1,\n",
              " 'close': 2777,\n",
              " '5th': 311,\n",
              " 'theather': 1,\n",
              " 'wellpikes': 1,\n",
              " 'pioneer': 27,\n",
              " 'mono': 3,\n",
              " 'rail': 102,\n",
              " 'cruise': 446,\n",
              " 'uniquely': 9,\n",
              " 'remodeled': 71,\n",
              " 'pacific': 98,\n",
              " 'bell': 273,\n",
              " 'charm': 242,\n",
              " 'sturdiness': 1,\n",
              " 'everytime': 122,\n",
              " 'coming': 680,\n",
              " 'secure': 157,\n",
              " 'singlar': 686,\n",
              " 'travelers': 330,\n",
              " 'fabulous': 970,\n",
              " 'needlelittle': 1,\n",
              " 'grocerydrug': 1,\n",
              " 'store': 571,\n",
              " 'today': 81,\n",
              " 'bravo': 36,\n",
              " '1': 1563,\n",
              " 'double': 1093,\n",
              " 'separated': 51,\n",
              " 'curtain': 139,\n",
              " 'snoring': 11,\n",
              " 'mom': 100,\n",
              " 'slept': 383,\n",
              " 'nearby': 905,\n",
              " 'past': 600,\n",
              " 'we': 5,\n",
              " 'delight': 89,\n",
              " 'professional': 543,\n",
              " 'smart': 118,\n",
              " 'particularly': 520,\n",
              " 'liked': 926,\n",
              " 'guests': 1495,\n",
              " 'loved': 2522,\n",
              " 'mild': 35,\n",
              " 'negative': 712,\n",
              " 'uphill': 36,\n",
              " 'ppmarket': 1,\n",
              " 'restaurants': 3856,\n",
              " 'poor': 751,\n",
              " 'value': 1915,\n",
              " 'july': 410,\n",
              " 'priced': 622,\n",
              " '100': 635,\n",
              " '150': 160,\n",
              " 'takes': 493,\n",
              " 'beating': 11,\n",
              " 'quotient': 1,\n",
              " 'simply': 511,\n",
              " 'average': 1008,\n",
              " 'paying': 491,\n",
              " '300': 223,\n",
              " 'ca': 1619,\n",
              " 'terribly': 75,\n",
              " 'wife': 1281,\n",
              " 'nicest': 280,\n",
              " '200night': 20,\n",
              " 'overpaying': 2,\n",
              " 'shop': 625,\n",
              " 'qualitywise': 1,\n",
              " 'league': 20,\n",
              " 'marriott': 339,\n",
              " 'western': 186,\n",
              " '2007': 351,\n",
              " 'looked': 1270,\n",
              " 'comparable': 96,\n",
              " 'westin': 314,\n",
              " 'pointsmiles': 1,\n",
              " 'gave': 1287,\n",
              " 'pleasantly': 309,\n",
              " 'tasty': 264,\n",
              " 'especially': 1669,\n",
              " 'say': 2832,\n",
              " 'relatively': 265,\n",
              " 'exercise': 132,\n",
              " 'treadmill': 28,\n",
              " 'heck': 34,\n",
              " 'east': 222,\n",
              " 'coast': 96,\n",
              " 'ran': 272,\n",
              " 'days': 2717,\n",
              " 'whimsical': 5,\n",
              " 'vibe': 60,\n",
              " 'fun': 1511,\n",
              " 'young': 562,\n",
              " 'casual': 87,\n",
              " 'group': 748,\n",
              " 'reserved': 299,\n",
              " 'connecting': 94,\n",
              " 'fuss': 59,\n",
              " 'weekthe': 9,\n",
              " 'decent': 882,\n",
              " 'pretty': 1882,\n",
              " 'bathrooms': 825,\n",
              " 'pocket': 50,\n",
              " 'ideal': 497,\n",
              " 'cheery': 31,\n",
              " 'flat': 508,\n",
              " 'panel': 48,\n",
              " 'finar': 1597,\n",
              " 'walkable': 68,\n",
              " 'attractions': 645,\n",
              " 'new': 2625,\n",
              " 'central': 1300,\n",
              " 'library': 130,\n",
              " 'sam': 21,\n",
              " 'benaroya': 1,\n",
              " 'concert': 51,\n",
              " 'hall': 357,\n",
              " 'steep': 187,\n",
              " '29night': 1,\n",
              " 'receptions': 14,\n",
              " 'popular': 196,\n",
              " 'rude': 621,\n",
              " 'bellhop': 37,\n",
              " 'difficult': 472,\n",
              " 'waited': 357,\n",
              " 'forever': 122,\n",
              " 'heavy': 186,\n",
              " 'bags': 637,\n",
              " 'throught': 12,\n",
              " 'worst': 639,\n",
              " 'checking': 569,\n",
              " 'tap': 141,\n",
              " 'pick': 567,\n",
              " '20': 1174,\n",
              " 'minutar': 3950,\n",
              " 'noticed': 409,\n",
              " '1000': 188,\n",
              " 'dollar': 275,\n",
              " 'hold': 192,\n",
              " 'credit': 344,\n",
              " 'card': 638,\n",
              " 'phonecalls': 4,\n",
              " 'fax': 46,\n",
              " 'week': 2137,\n",
              " 'warwck': 1,\n",
              " '4th': 285,\n",
              " 'lenora': 1,\n",
              " 'okbut': 3,\n",
              " 'al': 126,\n",
              " 'faz': 116,\n",
              " 'tiring': 39,\n",
              " 'airport': 2100,\n",
              " 'touche': 217,\n",
              " 'leopard': 5,\n",
              " 'robar': 248,\n",
              " 'complaint': 682,\n",
              " 'wifi': 228,\n",
              " 'complimentary': 713,\n",
              " 'center': 904,\n",
              " 'horrible': 468,\n",
              " 'customer': 470,\n",
              " 'february': 175,\n",
              " '3rd': 433,\n",
              " '2007my': 5,\n",
              " 'appealing': 62,\n",
              " 'included': 1388,\n",
              " 'checkout': 389,\n",
              " 'gift': 266,\n",
              " 'spa': 866,\n",
              " 'earlier': 327,\n",
              " 'man': 385,\n",
              " 'stood': 99,\n",
              " 'pull': 125,\n",
              " 'didnÇé': 211,\n",
              " 'garment': 5,\n",
              " 'bag': 248,\n",
              " 'suitcase': 106,\n",
              " 'key': 577,\n",
              " 'number': 680,\n",
              " 'says': 211,\n",
              " 'park': 1029,\n",
              " 'working': 785,\n",
              " 'gets': 412,\n",
              " 'oil': 45,\n",
              " 'lotion': 89,\n",
              " 'blood': 35,\n",
              " 'disgusted': 27,\n",
              " 'unbelievable': 149,\n",
              " 'sent': 384,\n",
              " 'somebody': 63,\n",
              " 'swapped': 12,\n",
              " 'apologizing': 20,\n",
              " 'sunday': 275,\n",
              " 'management': 464,\n",
              " 'aggravated': 9,\n",
              " 'apparently': 284,\n",
              " 'kind': 869,\n",
              " 'supervisor': 39,\n",
              " 'wait': 1421,\n",
              " 'monday': 132,\n",
              " 'adding': 45,\n",
              " 'changed': 523,\n",
              " 'fresh': 1252,\n",
              " 'tone': 39,\n",
              " '130': 80,\n",
              " 'maids': 255,\n",
              " 'tried': 1061,\n",
              " 'remind': 42,\n",
              " 'packed': 200,\n",
              " 'downstairs': 369,\n",
              " 'quickly': 598,\n",
              " 'signed': 53,\n",
              " 'paper': 253,\n",
              " 'closer': 293,\n",
              " 'unfortunately': 456,\n",
              " 'charged': 455,\n",
              " 'ask': 1532,\n",
              " 'charges': 239,\n",
              " 'lady': 498,\n",
              " 'answered': 104,\n",
              " 'snapped': 6,\n",
              " 'aware': 309,\n",
              " 'life': 536,\n",
              " 'treated': 432,\n",
              " 'constantly': 226,\n",
              " 'lucky': 319,\n",
              " 'ones': 555,\n",
              " 'anybody': 95,\n",
              " 'anticipating': 10,\n",
              " 'based': 582,\n",
              " 'seen': 830,\n",
              " 'tripadvisor': 466,\n",
              " 'disppointment': 1,\n",
              " 'envisioned': 4,\n",
              " 'impressive': 275,\n",
              " 'extremely': 1793,\n",
              " 'polite': 606,\n",
              " 'bellmen': 55,\n",
              " 'easily': 587,\n",
              " 'overlooked': 253,\n",
              " 'mirror': 144,\n",
              " 'sagging': 8,\n",
              " 'post': 162,\n",
              " 'jiggly': 1,\n",
              " 'entrance': 406,\n",
              " 'handle': 100,\n",
              " 'nearly': 299,\n",
              " 'falling': 74,\n",
              " 'flight': 863,\n",
              " 'midweek': 24,\n",
              " 'suggested': 154,\n",
              " 'ride': 993,\n",
              " 'cost': 993,\n",
              " 'private': 517,\n",
              " 'flatrate': 1,\n",
              " 'casar': 629,\n",
              " 'knew': 575,\n",
              " '30': 893,\n",
              " '38': 27,\n",
              " 'insisted': 76,\n",
              " '65': 59,\n",
              " 'explained': 148,\n",
              " 'kick': 41,\n",
              " 'referrals': 4,\n",
              " 'andor': 82,\n",
              " 'looking': 1949,\n",
              " 'interests': 9,\n",
              " 'years': 998,\n",
              " 'planned': 194,\n",
              " 'year': 1520,\n",
              " 'dinner': 1790,\n",
              " 'holiday': 940,\n",
              " 'responsar': 150,\n",
              " 'luck': 221,\n",
              " 'finding': 372,\n",
              " 'thanks': 446,\n",
              " 'centrar': 854,\n",
              " 'completely': 511,\n",
              " 'semifuncitional': 1,\n",
              " 'outsourced': 2,\n",
              " 'ended': 597,\n",
              " 'spending': 312,\n",
              " '50': 505,\n",
              " 'money': 2164,\n",
              " 'refund': 82,\n",
              " '25': 503,\n",
              " 'vacation': 1743,\n",
              " 'troubleshooting': 1,\n",
              " 'toll': 19,\n",
              " 'line': 919,\n",
              " 'assistance': 115,\n",
              " 'shrug': 5,\n",
              " 'majority': 140,\n",
              " 'attitude': 295,\n",
              " 'care': 842,\n",
              " 'dared': 3,\n",
              " 'intrude': 5,\n",
              " 'snotty': 18,\n",
              " 'occasions': 175,\n",
              " 'caught': 130,\n",
              " 'girls': 234,\n",
              " 'smirking': 1,\n",
              " 'turned': 593,\n",
              " 'frustrating': 98,\n",
              " 'honesty': 35,\n",
              " 'end': 1525,\n",
              " 'dash': 7,\n",
              " 'greet': 93,\n",
              " 'ignored': 119,\n",
              " 'unless': 656,\n",
              " 'approached': 87,\n",
              " 'saw': 956,\n",
              " 'smiling': 167,\n",
              " 'fantastic': 2334,\n",
              " 'holds': 21,\n",
              " 'attentive': 539,\n",
              " 'prompt': 152,\n",
              " 'loyalty': 12,\n",
              " 'program': 91,\n",
              " 'upgraded': 789,\n",
              " '10th': 119,\n",
              " 'public': 629,\n",
              " 'kittycorner': 2,\n",
              " 'highly': 1624,\n",
              " 'tour': 1204,\n",
              " 'blown': 70,\n",
              " 'spacious': 1751,\n",
              " 'flatscreen': 82,\n",
              " 'television': 162,\n",
              " 'dvdcd': 9,\n",
              " 'player': 191,\n",
              " 'means': 393,\n",
              " 'adequate': 627,\n",
              " 'outstanding': 501,\n",
              " 'eliptical': 3,\n",
              " 'cardiología': 35,\n",
              " 'machines': 236,\n",
              " 'stationary': 14,\n",
              " 'bikes': 82,\n",
              " 'personal': 360,\n",
              " 'viewing': 36,\n",
              " 'screens': 40,\n",
              " 'machine': 340,\n",
              " 'dvd': 173,\n",
              " 'particular': 266,\n",
              " 'stylish': 276,\n",
              " 'quirky': 68,\n",
              " 'inviting': 108,\n",
              " 'imaginar': 341,\n",
              " 'relaxing': 837,\n",
              " 'overstuffed': 10,\n",
              " 'chairs': 888,\n",
              " 'attached': 157,\n",
              " 'sazerac': 3,\n",
              " 'eaten': 123,\n",
              " 'lunch': 1102,\n",
              " ...}"
            ]
          },
          "metadata": {
            "tags": []
          },
          "execution_count": 35
        }
      ]
    },
    {
      "cell_type": "code",
      "metadata": {
        "id": "snikuzuDd_LZ"
      },
      "source": [
        "dataset[\"char_len\"] = dataset[\"text_processed\"].apply(lambda x: len(x))"
      ],
      "execution_count": null,
      "outputs": []
    },
    {
      "cell_type": "code",
      "metadata": {
        "colab": {
          "base_uri": "https://localhost:8080/",
          "height": 66,
          "referenced_widgets": [
            "293604f1d53148fd94ae0d7b25741536",
            "a8f94b387045496cb1551d48c37c5c31",
            "3186043961864929b448e756eeca4bdc",
            "8cdb1ddf28fb4fae9508c9b3b3398990",
            "203d165536b7446c90557c055d570d65",
            "d36417db811e4b47b4f2efe8f6be20b0",
            "ae87b351d866443ba3fb7d0d0454c360",
            "6816897bad2546929bdccca6e975b2f6"
          ]
        },
        "id": "ynbZZdmHfJEB",
        "outputId": "443326fe-ff90-4153-f346-fbd5b1fadb8d"
      },
      "source": [
        "dataset[\"clean_text\"] = dataset[\"text_processed\"].progress_apply(lambda x: \" \".join(x))"
      ],
      "execution_count": null,
      "outputs": [
        {
          "output_type": "display_data",
          "data": {
            "application/vnd.jupyter.widget-view+json": {
              "model_id": "293604f1d53148fd94ae0d7b25741536",
              "version_minor": 0,
              "version_major": 2
            },
            "text/plain": [
              "HBox(children=(FloatProgress(value=0.0, max=20491.0), HTML(value='')))"
            ]
          },
          "metadata": {
            "tags": []
          }
        },
        {
          "output_type": "stream",
          "text": [
            "\n"
          ],
          "name": "stdout"
        }
      ]
    },
    {
      "cell_type": "code",
      "metadata": {
        "colab": {
          "base_uri": "https://localhost:8080/",
          "height": 17
        },
        "id": "_6psplzvJDAS",
        "outputId": "a1c7f0ec-b511-40a2-fd73-78ced5f78110"
      },
      "source": [
        "from google.colab import files\n",
        "files.download('data_preprocessed.csv')"
      ],
      "execution_count": null,
      "outputs": [
        {
          "output_type": "display_data",
          "data": {
            "application/javascript": [
              "\n",
              "    async function download(id, filename, size) {\n",
              "      if (!google.colab.kernel.accessAllowed) {\n",
              "        return;\n",
              "      }\n",
              "      const div = document.createElement('div');\n",
              "      const label = document.createElement('label');\n",
              "      label.textContent = `Downloading \"${filename}\": `;\n",
              "      div.appendChild(label);\n",
              "      const progress = document.createElement('progress');\n",
              "      progress.max = size;\n",
              "      div.appendChild(progress);\n",
              "      document.body.appendChild(div);\n",
              "\n",
              "      const buffers = [];\n",
              "      let downloaded = 0;\n",
              "\n",
              "      const channel = await google.colab.kernel.comms.open(id);\n",
              "      // Send a message to notify the kernel that we're ready.\n",
              "      channel.send({})\n",
              "\n",
              "      for await (const message of channel.messages) {\n",
              "        // Send a message to notify the kernel that we're ready.\n",
              "        channel.send({})\n",
              "        if (message.buffers) {\n",
              "          for (const buffer of message.buffers) {\n",
              "            buffers.push(buffer);\n",
              "            downloaded += buffer.byteLength;\n",
              "            progress.value = downloaded;\n",
              "          }\n",
              "        }\n",
              "      }\n",
              "      const blob = new Blob(buffers, {type: 'application/binary'});\n",
              "      const a = document.createElement('a');\n",
              "      a.href = window.URL.createObjectURL(blob);\n",
              "      a.download = filename;\n",
              "      div.appendChild(a);\n",
              "      a.click();\n",
              "      div.remove();\n",
              "    }\n",
              "  "
            ],
            "text/plain": [
              "<IPython.core.display.Javascript object>"
            ]
          },
          "metadata": {
            "tags": []
          }
        },
        {
          "output_type": "display_data",
          "data": {
            "application/javascript": [
              "download(\"download_4c0845e4-1afa-4381-843f-f44089a446cc\", \"data_preprocessed.csv\", 49731327)"
            ],
            "text/plain": [
              "<IPython.core.display.Javascript object>"
            ]
          },
          "metadata": {
            "tags": []
          }
        }
      ]
    },
    {
      "cell_type": "code",
      "metadata": {
        "id": "TBdQWx1GC-9K"
      },
      "source": [
        "from google.colab import files\n",
        "with open(\"data_preprocessed.csv\", \"w\") as text_file:\n",
        "    text_file.write(dataset.to_csv(index=False))"
      ],
      "execution_count": null,
      "outputs": []
    },
    {
      "cell_type": "markdown",
      "metadata": {
        "id": "rp8eVyPzh40C"
      },
      "source": [
        "Conozcamos de que va el dataset, es decir, cuales son los tokens mas empleados."
      ]
    },
    {
      "cell_type": "code",
      "metadata": {
        "id": "wW7tJXkQKGyX",
        "colab": {
          "base_uri": "https://localhost:8080/",
          "height": 217
        },
        "outputId": "1ed711ac-811b-4126-fc2f-5ce4ffef9138"
      },
      "source": [
        "from wordcloud import WordCloud\n",
        "# Une las frases\n",
        "long_string = ','.join(dataset[\"clean_text\"].values)\n",
        "# Genera un objecto WordCloud \n",
        "wordcloud = WordCloud(background_color=\"white\", max_words=5000, contour_width=0, contour_color='steelblue')\n",
        "# Genera el wordcloud\n",
        "wordcloud.generate(long_string)\n",
        "# Visualizalo en una imagen\n",
        "wordcloud.to_image()"
      ],
      "execution_count": null,
      "outputs": [
        {
          "output_type": "execute_result",
          "data": {
            "image/png": "[encoded data removed]",
            "text/plain": [
              "<PIL.Image.Image image mode=RGB size=400x200 at 0x7F4961ABFFD0>"
            ]
          },
          "metadata": {
            "tags": []
          },
          "execution_count": 54
        }
      ]
    },
    {
      "cell_type": "markdown",
      "metadata": {
        "id": "fhma0J0DtmCc"
      },
      "source": [
        "Otra manera de ver como es la distribución es mediante el plot simple que permite observar como es esa diferencia de frecuencias con el resto de tokens"
      ]
    },
    {
      "cell_type": "code",
      "metadata": {
        "colab": {
          "base_uri": "https://localhost:8080/"
        },
        "id": "DuMk031Ke92Z",
        "outputId": "fd5ecc05-90fe-4ce4-b0a2-00e00408fbd3"
      },
      "source": [
        "from nltk.probability import FreqDist\n",
        "fdist = FreqDist(DF)\n",
        "print(fdist)"
      ],
      "execution_count": null,
      "outputs": [
        {
          "output_type": "stream",
          "text": [
            "<FreqDist with 80728 samples and 1667177 outcomes>\n"
          ],
          "name": "stdout"
        }
      ]
    },
    {
      "cell_type": "code",
      "metadata": {
        "colab": {
          "base_uri": "https://localhost:8080/",
          "height": 309
        },
        "id": "HO5FfLycfXST",
        "outputId": "16276d14-5fe3-4cd5-f9cf-1016abe09262"
      },
      "source": [
        "# Frequency Distribution Plot\n",
        "fdist.plot(10,cumulative=False)\n",
        "plt.show()"
      ],
      "execution_count": null,
      "outputs": [
        {
          "output_type": "display_data",
          "data": {
            "image/png": "[encoded data removed]",
            "text/plain": [
              "<Figure size 432x288 with 1 Axes>"
            ]
          },
          "metadata": {
            "tags": [],
            "needs_background": "light"
          }
        }
      ]
    },
    {
      "cell_type": "markdown",
      "metadata": {
        "id": "2-7SjXmosPP6"
      },
      "source": [
        "Podemos comporbar que nivel de token las palabras más utilizadas son 'hotel', 'room', que se diferencian del resto en gran medida"
      ]
    },
    {
      "cell_type": "markdown",
      "metadata": {
        "id": "th8YC2R4yJvI"
      },
      "source": [
        "Para el caso de las longitudes de los tokens, vemos una distribución donde se concentra en su mayoria entre 0-250 caracteres por cada una de las frases"
      ]
    },
    {
      "cell_type": "code",
      "metadata": {
        "colab": {
          "base_uri": "https://localhost:8080/",
          "height": 351
        },
        "id": "RerOjmBarSUz",
        "outputId": "86a4ed60-4e3a-4ff4-c2bd-4f734c9f7019"
      },
      "source": [
        "sns.distplot(dataset[\"char_len\"], hist=False, label=\"real\")"
      ],
      "execution_count": null,
      "outputs": [
        {
          "output_type": "stream",
          "text": [
            "/usr/local/lib/python3.7/dist-packages/seaborn/distributions.py:2557: FutureWarning: `distplot` is a deprecated function and will be removed in a future version. Please adapt your code to use either `displot` (a figure-level function with similar flexibility) or `kdeplot` (an axes-level function for kernel density plots).\n",
            "  warnings.warn(msg, FutureWarning)\n"
          ],
          "name": "stderr"
        },
        {
          "output_type": "execute_result",
          "data": {
            "text/plain": [
              "<matplotlib.axes._subplots.AxesSubplot at 0x7fbc64bfe4d0>"
            ]
          },
          "metadata": {
            "tags": []
          },
          "execution_count": 30
        },
        {
          "output_type": "display_data",
          "data": {
            "image/png": "[encoded data removed]",
            "text/plain": [
              "<Figure size 432x288 with 1 Axes>"
            ]
          },
          "metadata": {
            "tags": [],
            "needs_background": "light"
          }
        }
      ]
    },
    {
      "cell_type": "markdown",
      "metadata": {
        "id": "sxYnlVpaiWmy"
      },
      "source": [
        "# Apartado 4\n",
        "## Calcular y representar gráficamente en forma de histograma los 10 tokens más utilizados en cada una de las clases del corpus después del proceso de limpieza"
      ]
    },
    {
      "cell_type": "markdown",
      "metadata": {
        "id": "apHx0gRBsZ6M"
      },
      "source": [
        "Dividimos el dataset en dos, segun la clase del corpus para posteriormente analizar por separado los tokens mas utilizados"
      ]
    },
    {
      "cell_type": "code",
      "metadata": {
        "id": "FUomRNhqnUps"
      },
      "source": [
        "pos_reviews = dataset.loc[dataset['positive'] == 1]\n",
        "neg_reviews = dataset.loc[dataset['positive'] == 0]"
      ],
      "execution_count": null,
      "outputs": []
    },
    {
      "cell_type": "markdown",
      "metadata": {
        "id": "agiaz55ntXab"
      },
      "source": [
        "El cálculo se hará a traves de la funcion counter, teniendo en cuenta solo los 10 tokens mas utilizados"
      ]
    },
    {
      "cell_type": "code",
      "metadata": {
        "id": "B4WqLi26l3YW"
      },
      "source": [
        "from collections import Counter\n",
        "top_10_tokens_pos= Counter(\" \".join(pos_reviews[\"clean_text\"]).split()).most_common(10)\n",
        "top_10_tokens_neg= Counter(\" \".join(neg_reviews[\"clean_text\"]).split()).most_common(10)"
      ],
      "execution_count": null,
      "outputs": []
    },
    {
      "cell_type": "code",
      "metadata": {
        "id": "E0hBAoiikNHy"
      },
      "source": [
        "pos_result = pd.DataFrame(top_10_tokens_pos,\n",
        "                    columns=['Word', 'Frequency']).set_index('Word')\n",
        "neg_result = pd.DataFrame(top_10_tokens_neg,\n",
        "                    columns=['Word', 'Frequency']).set_index('Word')"
      ],
      "execution_count": null,
      "outputs": []
    },
    {
      "cell_type": "code",
      "metadata": {
        "colab": {
          "base_uri": "https://localhost:8080/",
          "height": 590
        },
        "id": "pMdiLtR6jNta",
        "outputId": "4efc7989-7d21-4bac-f40f-15b8876477b1"
      },
      "source": [
        "ax_1= pos_result.plot.bar(rot=0, color='red')\n",
        "ax_1.set_title(\"Amount Frequency tokens Postive\")\n",
        "ax_2 = neg_result.plot.bar(rot=0, color='green')\n",
        "ax_2.set_title(\"Amount Frequency tokens Negative\")"
      ],
      "execution_count": null,
      "outputs": [
        {
          "output_type": "execute_result",
          "data": {
            "text/plain": [
              "Text(0.5, 1.0, 'Amount Frequency tokens Negative')"
            ]
          },
          "metadata": {
            "tags": []
          },
          "execution_count": 95
        },
        {
          "output_type": "display_data",
          "data": {
            "image/png": "[encoded data removed]",
            "text/plain": [
              "<Figure size 432x288 with 1 Axes>"
            ]
          },
          "metadata": {
            "tags": [],
            "needs_background": "light"
          }
        },
        {
          "output_type": "display_data",
          "data": {
            "image/png": "[encoded data removed]",
            "text/plain": [
              "<Figure size 432x288 with 1 Axes>"
            ]
          },
          "metadata": {
            "tags": [],
            "needs_background": "light"
          }
        }
      ]
    },
    {
      "cell_type": "markdown",
      "metadata": {
        "id": "k8TNWeujs0AN"
      },
      "source": [
        "Ambas clases comparten las dos mayores token más utilizados en general dentro de nuestro corpus. Evidentemente al haber mas clases de tipo 1, la frecuencia es mayor y refleja con más precisión las palabras mas empleadas"
      ]
    }
  ]
}