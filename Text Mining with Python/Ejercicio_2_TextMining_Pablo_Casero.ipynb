{
  "nbformat": 4,
  "nbformat_minor": 0,
  "metadata": {
    "colab": {
      "name": "Ejercicio_2_TextMining_Pablo_Casero.ipynb",
      "provenance": [],
      "collapsed_sections": []
    },
    "kernelspec": {
      "name": "python3",
      "display_name": "Python 3"
    },
    "widgets": {
      "application/vnd.jupyter.widget-state+json": {
        "8df7fd86af864b869810eea83f22d63b": {
          "model_module": "@jupyter-widgets/controls",
          "model_name": "HBoxModel",
          "state": {
            "_view_name": "HBoxView",
            "_dom_classes": [],
            "_model_name": "HBoxModel",
            "_view_module": "@jupyter-widgets/controls",
            "_model_module_version": "1.5.0",
            "_view_count": null,
            "_view_module_version": "1.5.0",
            "box_style": "",
            "layout": "IPY_MODEL_2fb595ec53f6416498f54ca71d54f565",
            "_model_module": "@jupyter-widgets/controls",
            "children": [
              "IPY_MODEL_50b1fdb6f8724afe982ded595f40484f",
              "IPY_MODEL_86827c0dc53b4b5ab063f7f81e1727d0"
            ]
          }
        },
        "2fb595ec53f6416498f54ca71d54f565": {
          "model_module": "@jupyter-widgets/base",
          "model_name": "LayoutModel",
          "state": {
            "_view_name": "LayoutView",
            "grid_template_rows": null,
            "right": null,
            "justify_content": null,
            "_view_module": "@jupyter-widgets/base",
            "overflow": null,
            "_model_module_version": "1.2.0",
            "_view_count": null,
            "flex_flow": null,
            "width": null,
            "min_width": null,
            "border": null,
            "align_items": null,
            "bottom": null,
            "_model_module": "@jupyter-widgets/base",
            "top": null,
            "grid_column": null,
            "overflow_y": null,
            "overflow_x": null,
            "grid_auto_flow": null,
            "grid_area": null,
            "grid_template_columns": null,
            "flex": null,
            "_model_name": "LayoutModel",
            "justify_items": null,
            "grid_row": null,
            "max_height": null,
            "align_content": null,
            "visibility": null,
            "align_self": null,
            "height": null,
            "min_height": null,
            "padding": null,
            "grid_auto_rows": null,
            "grid_gap": null,
            "max_width": null,
            "order": null,
            "_view_module_version": "1.2.0",
            "grid_template_areas": null,
            "object_position": null,
            "object_fit": null,
            "grid_auto_columns": null,
            "margin": null,
            "display": null,
            "left": null
          }
        },
        "50b1fdb6f8724afe982ded595f40484f": {
          "model_module": "@jupyter-widgets/controls",
          "model_name": "FloatProgressModel",
          "state": {
            "_view_name": "ProgressView",
            "style": "IPY_MODEL_035b70a4226d4cbc85d518665007eb50",
            "_dom_classes": [],
            "description": "100%",
            "_model_name": "FloatProgressModel",
            "bar_style": "success",
            "max": 20491,
            "_view_module": "@jupyter-widgets/controls",
            "_model_module_version": "1.5.0",
            "value": 20491,
            "_view_count": null,
            "_view_module_version": "1.5.0",
            "orientation": "horizontal",
            "min": 0,
            "description_tooltip": null,
            "_model_module": "@jupyter-widgets/controls",
            "layout": "IPY_MODEL_7d2bc507923140a1a002bf4a5fe3ab92"
          }
        },
        "86827c0dc53b4b5ab063f7f81e1727d0": {
          "model_module": "@jupyter-widgets/controls",
          "model_name": "HTMLModel",
          "state": {
            "_view_name": "HTMLView",
            "style": "IPY_MODEL_fd161a4d5f8941148a16891afeacb15a",
            "_dom_classes": [],
            "description": "",
            "_model_name": "HTMLModel",
            "placeholder": "​",
            "_view_module": "@jupyter-widgets/controls",
            "_model_module_version": "1.5.0",
            "value": " 20491/20491 [05:18&lt;00:00, 64.40it/s]",
            "_view_count": null,
            "_view_module_version": "1.5.0",
            "description_tooltip": null,
            "_model_module": "@jupyter-widgets/controls",
            "layout": "IPY_MODEL_fa381f049d574af794601c56ccde9940"
          }
        },
        "035b70a4226d4cbc85d518665007eb50": {
          "model_module": "@jupyter-widgets/controls",
          "model_name": "ProgressStyleModel",
          "state": {
            "_view_name": "StyleView",
            "_model_name": "ProgressStyleModel",
            "description_width": "initial",
            "_view_module": "@jupyter-widgets/base",
            "_model_module_version": "1.5.0",
            "_view_count": null,
            "_view_module_version": "1.2.0",
            "bar_color": null,
            "_model_module": "@jupyter-widgets/controls"
          }
        },
        "7d2bc507923140a1a002bf4a5fe3ab92": {
          "model_module": "@jupyter-widgets/base",
          "model_name": "LayoutModel",
          "state": {
            "_view_name": "LayoutView",
            "grid_template_rows": null,
            "right": null,
            "justify_content": null,
            "_view_module": "@jupyter-widgets/base",
            "overflow": null,
            "_model_module_version": "1.2.0",
            "_view_count": null,
            "flex_flow": null,
            "width": null,
            "min_width": null,
            "border": null,
            "align_items": null,
            "bottom": null,
            "_model_module": "@jupyter-widgets/base",
            "top": null,
            "grid_column": null,
            "overflow_y": null,
            "overflow_x": null,
            "grid_auto_flow": null,
            "grid_area": null,
            "grid_template_columns": null,
            "flex": null,
            "_model_name": "LayoutModel",
            "justify_items": null,
            "grid_row": null,
            "max_height": null,
            "align_content": null,
            "visibility": null,
            "align_self": null,
            "height": null,
            "min_height": null,
            "padding": null,
            "grid_auto_rows": null,
            "grid_gap": null,
            "max_width": null,
            "order": null,
            "_view_module_version": "1.2.0",
            "grid_template_areas": null,
            "object_position": null,
            "object_fit": null,
            "grid_auto_columns": null,
            "margin": null,
            "display": null,
            "left": null
          }
        },
        "fd161a4d5f8941148a16891afeacb15a": {
          "model_module": "@jupyter-widgets/controls",
          "model_name": "DescriptionStyleModel",
          "state": {
            "_view_name": "StyleView",
            "_model_name": "DescriptionStyleModel",
            "description_width": "",
            "_view_module": "@jupyter-widgets/base",
            "_model_module_version": "1.5.0",
            "_view_count": null,
            "_view_module_version": "1.2.0",
            "_model_module": "@jupyter-widgets/controls"
          }
        },
        "fa381f049d574af794601c56ccde9940": {
          "model_module": "@jupyter-widgets/base",
          "model_name": "LayoutModel",
          "state": {
            "_view_name": "LayoutView",
            "grid_template_rows": null,
            "right": null,
            "justify_content": null,
            "_view_module": "@jupyter-widgets/base",
            "overflow": null,
            "_model_module_version": "1.2.0",
            "_view_count": null,
            "flex_flow": null,
            "width": null,
            "min_width": null,
            "border": null,
            "align_items": null,
            "bottom": null,
            "_model_module": "@jupyter-widgets/base",
            "top": null,
            "grid_column": null,
            "overflow_y": null,
            "overflow_x": null,
            "grid_auto_flow": null,
            "grid_area": null,
            "grid_template_columns": null,
            "flex": null,
            "_model_name": "LayoutModel",
            "justify_items": null,
            "grid_row": null,
            "max_height": null,
            "align_content": null,
            "visibility": null,
            "align_self": null,
            "height": null,
            "min_height": null,
            "padding": null,
            "grid_auto_rows": null,
            "grid_gap": null,
            "max_width": null,
            "order": null,
            "_view_module_version": "1.2.0",
            "grid_template_areas": null,
            "object_position": null,
            "object_fit": null,
            "grid_auto_columns": null,
            "margin": null,
            "display": null,
            "left": null
          }
        },
        "ba0d0257dd5d4b30b29174384c68579d": {
          "model_module": "@jupyter-widgets/controls",
          "model_name": "HBoxModel",
          "state": {
            "_view_name": "HBoxView",
            "_dom_classes": [],
            "_model_name": "HBoxModel",
            "_view_module": "@jupyter-widgets/controls",
            "_model_module_version": "1.5.0",
            "_view_count": null,
            "_view_module_version": "1.5.0",
            "box_style": "",
            "layout": "IPY_MODEL_c9bb10c9120f4ec38300f02bf878c5de",
            "_model_module": "@jupyter-widgets/controls",
            "children": [
              "IPY_MODEL_967554ec43404f8b93325ab68c723a33",
              "IPY_MODEL_3106fe764d2d4f948d0b80fa99d0d024"
            ]
          }
        },
        "c9bb10c9120f4ec38300f02bf878c5de": {
          "model_module": "@jupyter-widgets/base",
          "model_name": "LayoutModel",
          "state": {
            "_view_name": "LayoutView",
            "grid_template_rows": null,
            "right": null,
            "justify_content": null,
            "_view_module": "@jupyter-widgets/base",
            "overflow": null,
            "_model_module_version": "1.2.0",
            "_view_count": null,
            "flex_flow": null,
            "width": null,
            "min_width": null,
            "border": null,
            "align_items": null,
            "bottom": null,
            "_model_module": "@jupyter-widgets/base",
            "top": null,
            "grid_column": null,
            "overflow_y": null,
            "overflow_x": null,
            "grid_auto_flow": null,
            "grid_area": null,
            "grid_template_columns": null,
            "flex": null,
            "_model_name": "LayoutModel",
            "justify_items": null,
            "grid_row": null,
            "max_height": null,
            "align_content": null,
            "visibility": null,
            "align_self": null,
            "height": null,
            "min_height": null,
            "padding": null,
            "grid_auto_rows": null,
            "grid_gap": null,
            "max_width": null,
            "order": null,
            "_view_module_version": "1.2.0",
            "grid_template_areas": null,
            "object_position": null,
            "object_fit": null,
            "grid_auto_columns": null,
            "margin": null,
            "display": null,
            "left": null
          }
        },
        "967554ec43404f8b93325ab68c723a33": {
          "model_module": "@jupyter-widgets/controls",
          "model_name": "FloatProgressModel",
          "state": {
            "_view_name": "ProgressView",
            "style": "IPY_MODEL_155c9ac453b54a5c8631bdbd5fabca12",
            "_dom_classes": [],
            "description": "100%",
            "_model_name": "FloatProgressModel",
            "bar_style": "success",
            "max": 20491,
            "_view_module": "@jupyter-widgets/controls",
            "_model_module_version": "1.5.0",
            "value": 20491,
            "_view_count": null,
            "_view_module_version": "1.5.0",
            "orientation": "horizontal",
            "min": 0,
            "description_tooltip": null,
            "_model_module": "@jupyter-widgets/controls",
            "layout": "IPY_MODEL_140adaaa288444998fe2ce3997f6e16f"
          }
        },
        "3106fe764d2d4f948d0b80fa99d0d024": {
          "model_module": "@jupyter-widgets/controls",
          "model_name": "HTMLModel",
          "state": {
            "_view_name": "HTMLView",
            "style": "IPY_MODEL_8b9ee943e7b24fa3927d9066bf086b6e",
            "_dom_classes": [],
            "description": "",
            "_model_name": "HTMLModel",
            "placeholder": "​",
            "_view_module": "@jupyter-widgets/controls",
            "_model_module_version": "1.5.0",
            "value": " 20491/20491 [02:18&lt;00:00, 147.76it/s]",
            "_view_count": null,
            "_view_module_version": "1.5.0",
            "description_tooltip": null,
            "_model_module": "@jupyter-widgets/controls",
            "layout": "IPY_MODEL_ed8fb7536961464998d0a6916dbdc8dd"
          }
        },
        "155c9ac453b54a5c8631bdbd5fabca12": {
          "model_module": "@jupyter-widgets/controls",
          "model_name": "ProgressStyleModel",
          "state": {
            "_view_name": "StyleView",
            "_model_name": "ProgressStyleModel",
            "description_width": "initial",
            "_view_module": "@jupyter-widgets/base",
            "_model_module_version": "1.5.0",
            "_view_count": null,
            "_view_module_version": "1.2.0",
            "bar_color": null,
            "_model_module": "@jupyter-widgets/controls"
          }
        },
        "140adaaa288444998fe2ce3997f6e16f": {
          "model_module": "@jupyter-widgets/base",
          "model_name": "LayoutModel",
          "state": {
            "_view_name": "LayoutView",
            "grid_template_rows": null,
            "right": null,
            "justify_content": null,
            "_view_module": "@jupyter-widgets/base",
            "overflow": null,
            "_model_module_version": "1.2.0",
            "_view_count": null,
            "flex_flow": null,
            "width": null,
            "min_width": null,
            "border": null,
            "align_items": null,
            "bottom": null,
            "_model_module": "@jupyter-widgets/base",
            "top": null,
            "grid_column": null,
            "overflow_y": null,
            "overflow_x": null,
            "grid_auto_flow": null,
            "grid_area": null,
            "grid_template_columns": null,
            "flex": null,
            "_model_name": "LayoutModel",
            "justify_items": null,
            "grid_row": null,
            "max_height": null,
            "align_content": null,
            "visibility": null,
            "align_self": null,
            "height": null,
            "min_height": null,
            "padding": null,
            "grid_auto_rows": null,
            "grid_gap": null,
            "max_width": null,
            "order": null,
            "_view_module_version": "1.2.0",
            "grid_template_areas": null,
            "object_position": null,
            "object_fit": null,
            "grid_auto_columns": null,
            "margin": null,
            "display": null,
            "left": null
          }
        },
        "8b9ee943e7b24fa3927d9066bf086b6e": {
          "model_module": "@jupyter-widgets/controls",
          "model_name": "DescriptionStyleModel",
          "state": {
            "_view_name": "StyleView",
            "_model_name": "DescriptionStyleModel",
            "description_width": "",
            "_view_module": "@jupyter-widgets/base",
            "_model_module_version": "1.5.0",
            "_view_count": null,
            "_view_module_version": "1.2.0",
            "_model_module": "@jupyter-widgets/controls"
          }
        },
        "ed8fb7536961464998d0a6916dbdc8dd": {
          "model_module": "@jupyter-widgets/base",
          "model_name": "LayoutModel",
          "state": {
            "_view_name": "LayoutView",
            "grid_template_rows": null,
            "right": null,
            "justify_content": null,
            "_view_module": "@jupyter-widgets/base",
            "overflow": null,
            "_model_module_version": "1.2.0",
            "_view_count": null,
            "flex_flow": null,
            "width": null,
            "min_width": null,
            "border": null,
            "align_items": null,
            "bottom": null,
            "_model_module": "@jupyter-widgets/base",
            "top": null,
            "grid_column": null,
            "overflow_y": null,
            "overflow_x": null,
            "grid_auto_flow": null,
            "grid_area": null,
            "grid_template_columns": null,
            "flex": null,
            "_model_name": "LayoutModel",
            "justify_items": null,
            "grid_row": null,
            "max_height": null,
            "align_content": null,
            "visibility": null,
            "align_self": null,
            "height": null,
            "min_height": null,
            "padding": null,
            "grid_auto_rows": null,
            "grid_gap": null,
            "max_width": null,
            "order": null,
            "_view_module_version": "1.2.0",
            "grid_template_areas": null,
            "object_position": null,
            "object_fit": null,
            "grid_auto_columns": null,
            "margin": null,
            "display": null,
            "left": null
          }
        },
        "1bcd9fe6f4194a47ac5cc850ff1f9a19": {
          "model_module": "@jupyter-widgets/controls",
          "model_name": "HBoxModel",
          "state": {
            "_view_name": "HBoxView",
            "_dom_classes": [],
            "_model_name": "HBoxModel",
            "_view_module": "@jupyter-widgets/controls",
            "_model_module_version": "1.5.0",
            "_view_count": null,
            "_view_module_version": "1.5.0",
            "box_style": "",
            "layout": "IPY_MODEL_bd9002b309b9406189a30e42e573e5bb",
            "_model_module": "@jupyter-widgets/controls",
            "children": [
              "IPY_MODEL_0fad4e5740c3444bb0235c56e23702c7",
              "IPY_MODEL_f9ad5956730f428793150a30ab5ebd0e"
            ]
          }
        },
        "bd9002b309b9406189a30e42e573e5bb": {
          "model_module": "@jupyter-widgets/base",
          "model_name": "LayoutModel",
          "state": {
            "_view_name": "LayoutView",
            "grid_template_rows": null,
            "right": null,
            "justify_content": null,
            "_view_module": "@jupyter-widgets/base",
            "overflow": null,
            "_model_module_version": "1.2.0",
            "_view_count": null,
            "flex_flow": null,
            "width": null,
            "min_width": null,
            "border": null,
            "align_items": null,
            "bottom": null,
            "_model_module": "@jupyter-widgets/base",
            "top": null,
            "grid_column": null,
            "overflow_y": null,
            "overflow_x": null,
            "grid_auto_flow": null,
            "grid_area": null,
            "grid_template_columns": null,
            "flex": null,
            "_model_name": "LayoutModel",
            "justify_items": null,
            "grid_row": null,
            "max_height": null,
            "align_content": null,
            "visibility": null,
            "align_self": null,
            "height": null,
            "min_height": null,
            "padding": null,
            "grid_auto_rows": null,
            "grid_gap": null,
            "max_width": null,
            "order": null,
            "_view_module_version": "1.2.0",
            "grid_template_areas": null,
            "object_position": null,
            "object_fit": null,
            "grid_auto_columns": null,
            "margin": null,
            "display": null,
            "left": null
          }
        },
        "0fad4e5740c3444bb0235c56e23702c7": {
          "model_module": "@jupyter-widgets/controls",
          "model_name": "FloatProgressModel",
          "state": {
            "_view_name": "ProgressView",
            "style": "IPY_MODEL_478ea0c6d2b24beb86d0fe643dd20452",
            "_dom_classes": [],
            "description": "100%",
            "_model_name": "FloatProgressModel",
            "bar_style": "success",
            "max": 20491,
            "_view_module": "@jupyter-widgets/controls",
            "_model_module_version": "1.5.0",
            "value": 20491,
            "_view_count": null,
            "_view_module_version": "1.5.0",
            "orientation": "horizontal",
            "min": 0,
            "description_tooltip": null,
            "_model_module": "@jupyter-widgets/controls",
            "layout": "IPY_MODEL_d50016eb939d491a8adce97303b86cc4"
          }
        },
        "f9ad5956730f428793150a30ab5ebd0e": {
          "model_module": "@jupyter-widgets/controls",
          "model_name": "HTMLModel",
          "state": {
            "_view_name": "HTMLView",
            "style": "IPY_MODEL_99a7a0a6ec1647549f06a7ac54e060b6",
            "_dom_classes": [],
            "description": "",
            "_model_name": "HTMLModel",
            "placeholder": "​",
            "_view_module": "@jupyter-widgets/controls",
            "_model_module_version": "1.5.0",
            "value": " 20491/20491 [00:17&lt;00:00, 1176.68it/s]",
            "_view_count": null,
            "_view_module_version": "1.5.0",
            "description_tooltip": null,
            "_model_module": "@jupyter-widgets/controls",
            "layout": "IPY_MODEL_9301feb4dd3a423cb6e17df92a6a4131"
          }
        },
        "478ea0c6d2b24beb86d0fe643dd20452": {
          "model_module": "@jupyter-widgets/controls",
          "model_name": "ProgressStyleModel",
          "state": {
            "_view_name": "StyleView",
            "_model_name": "ProgressStyleModel",
            "description_width": "initial",
            "_view_module": "@jupyter-widgets/base",
            "_model_module_version": "1.5.0",
            "_view_count": null,
            "_view_module_version": "1.2.0",
            "bar_color": null,
            "_model_module": "@jupyter-widgets/controls"
          }
        },
        "d50016eb939d491a8adce97303b86cc4": {
          "model_module": "@jupyter-widgets/base",
          "model_name": "LayoutModel",
          "state": {
            "_view_name": "LayoutView",
            "grid_template_rows": null,
            "right": null,
            "justify_content": null,
            "_view_module": "@jupyter-widgets/base",
            "overflow": null,
            "_model_module_version": "1.2.0",
            "_view_count": null,
            "flex_flow": null,
            "width": null,
            "min_width": null,
            "border": null,
            "align_items": null,
            "bottom": null,
            "_model_module": "@jupyter-widgets/base",
            "top": null,
            "grid_column": null,
            "overflow_y": null,
            "overflow_x": null,
            "grid_auto_flow": null,
            "grid_area": null,
            "grid_template_columns": null,
            "flex": null,
            "_model_name": "LayoutModel",
            "justify_items": null,
            "grid_row": null,
            "max_height": null,
            "align_content": null,
            "visibility": null,
            "align_self": null,
            "height": null,
            "min_height": null,
            "padding": null,
            "grid_auto_rows": null,
            "grid_gap": null,
            "max_width": null,
            "order": null,
            "_view_module_version": "1.2.0",
            "grid_template_areas": null,
            "object_position": null,
            "object_fit": null,
            "grid_auto_columns": null,
            "margin": null,
            "display": null,
            "left": null
          }
        },
        "99a7a0a6ec1647549f06a7ac54e060b6": {
          "model_module": "@jupyter-widgets/controls",
          "model_name": "DescriptionStyleModel",
          "state": {
            "_view_name": "StyleView",
            "_model_name": "DescriptionStyleModel",
            "description_width": "",
            "_view_module": "@jupyter-widgets/base",
            "_model_module_version": "1.5.0",
            "_view_count": null,
            "_view_module_version": "1.2.0",
            "_model_module": "@jupyter-widgets/controls"
          }
        },
        "9301feb4dd3a423cb6e17df92a6a4131": {
          "model_module": "@jupyter-widgets/base",
          "model_name": "LayoutModel",
          "state": {
            "_view_name": "LayoutView",
            "grid_template_rows": null,
            "right": null,
            "justify_content": null,
            "_view_module": "@jupyter-widgets/base",
            "overflow": null,
            "_model_module_version": "1.2.0",
            "_view_count": null,
            "flex_flow": null,
            "width": null,
            "min_width": null,
            "border": null,
            "align_items": null,
            "bottom": null,
            "_model_module": "@jupyter-widgets/base",
            "top": null,
            "grid_column": null,
            "overflow_y": null,
            "overflow_x": null,
            "grid_auto_flow": null,
            "grid_area": null,
            "grid_template_columns": null,
            "flex": null,
            "_model_name": "LayoutModel",
            "justify_items": null,
            "grid_row": null,
            "max_height": null,
            "align_content": null,
            "visibility": null,
            "align_self": null,
            "height": null,
            "min_height": null,
            "padding": null,
            "grid_auto_rows": null,
            "grid_gap": null,
            "max_width": null,
            "order": null,
            "_view_module_version": "1.2.0",
            "grid_template_areas": null,
            "object_position": null,
            "object_fit": null,
            "grid_auto_columns": null,
            "margin": null,
            "display": null,
            "left": null
          }
        }
      }
    }
  },
  "cells": [
    {
      "cell_type": "code",
      "metadata": {
        "id": "v-NRLcFsRx4Q",
        "colab": {
          "base_uri": "https://localhost:8080/"
        },
        "outputId": "9c91ccf4-9348-46c6-c6bc-c15e870490d9"
      },
      "source": [
        "!wget https://github.com/luisgasco/ntic_master_datos/raw/main/datasets/tripadvisor_reviews.tsv\n",
        "# Se lee con el comando dataset =pd.read_csv(\"tripadvisor_reviews.tsv\", sep=\"\\t\")\n",
        "# Recordar descargar los modelos de spacy y nltk necesarios para la resolución del ejercicio"
      ],
      "execution_count": 1,
      "outputs": [
        {
          "output_type": "stream",
          "text": [
            "--2021-07-22 18:04:37--  https://github.com/luisgasco/ntic_master_datos/raw/main/datasets/tripadvisor_reviews.tsv\n",
            "Resolving github.com (github.com)... 140.82.113.3\n",
            "Connecting to github.com (github.com)|140.82.113.3|:443... connected.\n",
            "HTTP request sent, awaiting response... 302 Found\n",
            "Location: https://raw.githubusercontent.com/luisgasco/ntic_master_datos/main/datasets/tripadvisor_reviews.tsv [following]\n",
            "--2021-07-22 18:04:37--  https://raw.githubusercontent.com/luisgasco/ntic_master_datos/main/datasets/tripadvisor_reviews.tsv\n",
            "Resolving raw.githubusercontent.com (raw.githubusercontent.com)... 185.199.108.133, 185.199.109.133, 185.199.110.133, ...\n",
            "Connecting to raw.githubusercontent.com (raw.githubusercontent.com)|185.199.108.133|:443... connected.\n",
            "HTTP request sent, awaiting response... 200 OK\n",
            "Length: 14925041 (14M) [text/plain]\n",
            "Saving to: ‘tripadvisor_reviews.tsv’\n",
            "\n",
            "tripadvisor_reviews 100%[===================>]  14.23M  --.-KB/s    in 0.1s    \n",
            "\n",
            "2021-07-22 18:04:38 (104 MB/s) - ‘tripadvisor_reviews.tsv’ saved [14925041/14925041]\n",
            "\n"
          ],
          "name": "stdout"
        }
      ]
    },
    {
      "cell_type": "code",
      "metadata": {
        "id": "MT3oowRsLvuI",
        "colab": {
          "base_uri": "https://localhost:8080/"
        },
        "outputId": "93de3207-43c6-4a66-c251-59211ea50417"
      },
      "source": [
        "!pip install spacy\n",
        "!python -m spacy download es_core_news_sm\n",
        "# Instalamos nltk\n",
        "!pip install nltk"
      ],
      "execution_count": 2,
      "outputs": [
        {
          "output_type": "stream",
          "text": [
            "Requirement already satisfied: spacy in /usr/local/lib/python3.7/dist-packages (2.2.4)\n",
            "Requirement already satisfied: plac<1.2.0,>=0.9.6 in /usr/local/lib/python3.7/dist-packages (from spacy) (1.1.3)\n",
            "Requirement already satisfied: murmurhash<1.1.0,>=0.28.0 in /usr/local/lib/python3.7/dist-packages (from spacy) (1.0.5)\n",
            "Requirement already satisfied: blis<0.5.0,>=0.4.0 in /usr/local/lib/python3.7/dist-packages (from spacy) (0.4.1)\n",
            "Requirement already satisfied: preshed<3.1.0,>=3.0.2 in /usr/local/lib/python3.7/dist-packages (from spacy) (3.0.5)\n",
            "Requirement already satisfied: tqdm<5.0.0,>=4.38.0 in /usr/local/lib/python3.7/dist-packages (from spacy) (4.41.1)\n",
            "Requirement already satisfied: catalogue<1.1.0,>=0.0.7 in /usr/local/lib/python3.7/dist-packages (from spacy) (1.0.0)\n",
            "Requirement already satisfied: wasabi<1.1.0,>=0.4.0 in /usr/local/lib/python3.7/dist-packages (from spacy) (0.8.2)\n",
            "Requirement already satisfied: requests<3.0.0,>=2.13.0 in /usr/local/lib/python3.7/dist-packages (from spacy) (2.23.0)\n",
            "Requirement already satisfied: numpy>=1.15.0 in /usr/local/lib/python3.7/dist-packages (from spacy) (1.19.5)\n",
            "Requirement already satisfied: thinc==7.4.0 in /usr/local/lib/python3.7/dist-packages (from spacy) (7.4.0)\n",
            "Requirement already satisfied: setuptools in /usr/local/lib/python3.7/dist-packages (from spacy) (57.2.0)\n",
            "Requirement already satisfied: cymem<2.1.0,>=2.0.2 in /usr/local/lib/python3.7/dist-packages (from spacy) (2.0.5)\n",
            "Requirement already satisfied: srsly<1.1.0,>=1.0.2 in /usr/local/lib/python3.7/dist-packages (from spacy) (1.0.5)\n",
            "Requirement already satisfied: importlib-metadata>=0.20 in /usr/local/lib/python3.7/dist-packages (from catalogue<1.1.0,>=0.0.7->spacy) (4.6.1)\n",
            "Requirement already satisfied: zipp>=0.5 in /usr/local/lib/python3.7/dist-packages (from importlib-metadata>=0.20->catalogue<1.1.0,>=0.0.7->spacy) (3.5.0)\n",
            "Requirement already satisfied: typing-extensions>=3.6.4 in /usr/local/lib/python3.7/dist-packages (from importlib-metadata>=0.20->catalogue<1.1.0,>=0.0.7->spacy) (3.7.4.3)\n",
            "Requirement already satisfied: idna<3,>=2.5 in /usr/local/lib/python3.7/dist-packages (from requests<3.0.0,>=2.13.0->spacy) (2.10)\n",
            "Requirement already satisfied: urllib3!=1.25.0,!=1.25.1,<1.26,>=1.21.1 in /usr/local/lib/python3.7/dist-packages (from requests<3.0.0,>=2.13.0->spacy) (1.24.3)\n",
            "Requirement already satisfied: chardet<4,>=3.0.2 in /usr/local/lib/python3.7/dist-packages (from requests<3.0.0,>=2.13.0->spacy) (3.0.4)\n",
            "Requirement already satisfied: certifi>=2017.4.17 in /usr/local/lib/python3.7/dist-packages (from requests<3.0.0,>=2.13.0->spacy) (2021.5.30)\n",
            "Collecting es_core_news_sm==2.2.5\n",
            "  Downloading https://github.com/explosion/spacy-models/releases/download/es_core_news_sm-2.2.5/es_core_news_sm-2.2.5.tar.gz (16.2 MB)\n",
            "\u001b[K     |████████████████████████████████| 16.2 MB 14.1 MB/s \n",
            "\u001b[?25hRequirement already satisfied: spacy>=2.2.2 in /usr/local/lib/python3.7/dist-packages (from es_core_news_sm==2.2.5) (2.2.4)\n",
            "Requirement already satisfied: plac<1.2.0,>=0.9.6 in /usr/local/lib/python3.7/dist-packages (from spacy>=2.2.2->es_core_news_sm==2.2.5) (1.1.3)\n",
            "Requirement already satisfied: murmurhash<1.1.0,>=0.28.0 in /usr/local/lib/python3.7/dist-packages (from spacy>=2.2.2->es_core_news_sm==2.2.5) (1.0.5)\n",
            "Requirement already satisfied: wasabi<1.1.0,>=0.4.0 in /usr/local/lib/python3.7/dist-packages (from spacy>=2.2.2->es_core_news_sm==2.2.5) (0.8.2)\n",
            "Requirement already satisfied: cymem<2.1.0,>=2.0.2 in /usr/local/lib/python3.7/dist-packages (from spacy>=2.2.2->es_core_news_sm==2.2.5) (2.0.5)\n",
            "Requirement already satisfied: preshed<3.1.0,>=3.0.2 in /usr/local/lib/python3.7/dist-packages (from spacy>=2.2.2->es_core_news_sm==2.2.5) (3.0.5)\n",
            "Requirement already satisfied: srsly<1.1.0,>=1.0.2 in /usr/local/lib/python3.7/dist-packages (from spacy>=2.2.2->es_core_news_sm==2.2.5) (1.0.5)\n",
            "Requirement already satisfied: thinc==7.4.0 in /usr/local/lib/python3.7/dist-packages (from spacy>=2.2.2->es_core_news_sm==2.2.5) (7.4.0)\n",
            "Requirement already satisfied: requests<3.0.0,>=2.13.0 in /usr/local/lib/python3.7/dist-packages (from spacy>=2.2.2->es_core_news_sm==2.2.5) (2.23.0)\n",
            "Requirement already satisfied: catalogue<1.1.0,>=0.0.7 in /usr/local/lib/python3.7/dist-packages (from spacy>=2.2.2->es_core_news_sm==2.2.5) (1.0.0)\n",
            "Requirement already satisfied: setuptools in /usr/local/lib/python3.7/dist-packages (from spacy>=2.2.2->es_core_news_sm==2.2.5) (57.2.0)\n",
            "Requirement already satisfied: blis<0.5.0,>=0.4.0 in /usr/local/lib/python3.7/dist-packages (from spacy>=2.2.2->es_core_news_sm==2.2.5) (0.4.1)\n",
            "Requirement already satisfied: tqdm<5.0.0,>=4.38.0 in /usr/local/lib/python3.7/dist-packages (from spacy>=2.2.2->es_core_news_sm==2.2.5) (4.41.1)\n",
            "Requirement already satisfied: numpy>=1.15.0 in /usr/local/lib/python3.7/dist-packages (from spacy>=2.2.2->es_core_news_sm==2.2.5) (1.19.5)\n",
            "Requirement already satisfied: importlib-metadata>=0.20 in /usr/local/lib/python3.7/dist-packages (from catalogue<1.1.0,>=0.0.7->spacy>=2.2.2->es_core_news_sm==2.2.5) (4.6.1)\n",
            "Requirement already satisfied: typing-extensions>=3.6.4 in /usr/local/lib/python3.7/dist-packages (from importlib-metadata>=0.20->catalogue<1.1.0,>=0.0.7->spacy>=2.2.2->es_core_news_sm==2.2.5) (3.7.4.3)\n",
            "Requirement already satisfied: zipp>=0.5 in /usr/local/lib/python3.7/dist-packages (from importlib-metadata>=0.20->catalogue<1.1.0,>=0.0.7->spacy>=2.2.2->es_core_news_sm==2.2.5) (3.5.0)\n",
            "Requirement already satisfied: urllib3!=1.25.0,!=1.25.1,<1.26,>=1.21.1 in /usr/local/lib/python3.7/dist-packages (from requests<3.0.0,>=2.13.0->spacy>=2.2.2->es_core_news_sm==2.2.5) (1.24.3)\n",
            "Requirement already satisfied: certifi>=2017.4.17 in /usr/local/lib/python3.7/dist-packages (from requests<3.0.0,>=2.13.0->spacy>=2.2.2->es_core_news_sm==2.2.5) (2021.5.30)\n",
            "Requirement already satisfied: chardet<4,>=3.0.2 in /usr/local/lib/python3.7/dist-packages (from requests<3.0.0,>=2.13.0->spacy>=2.2.2->es_core_news_sm==2.2.5) (3.0.4)\n",
            "Requirement already satisfied: idna<3,>=2.5 in /usr/local/lib/python3.7/dist-packages (from requests<3.0.0,>=2.13.0->spacy>=2.2.2->es_core_news_sm==2.2.5) (2.10)\n",
            "Building wheels for collected packages: es-core-news-sm\n",
            "  Building wheel for es-core-news-sm (setup.py) ... \u001b[?25l\u001b[?25hdone\n",
            "  Created wheel for es-core-news-sm: filename=es_core_news_sm-2.2.5-py3-none-any.whl size=16172932 sha256=7d13a0417944529147bc6113413b742cdb2e5905384a55494a5e4a5674cc8288\n",
            "  Stored in directory: /tmp/pip-ephem-wheel-cache-fq_t_fu7/wheels/21/8d/a9/6c1a2809c55dd22cd9644ae503a52ba6206b04aa57ba83a3d8\n",
            "Successfully built es-core-news-sm\n",
            "Installing collected packages: es-core-news-sm\n",
            "Successfully installed es-core-news-sm-2.2.5\n",
            "\u001b[38;5;2m✔ Download and installation successful\u001b[0m\n",
            "You can now load the model via spacy.load('es_core_news_sm')\n",
            "Requirement already satisfied: nltk in /usr/local/lib/python3.7/dist-packages (3.2.5)\n",
            "Requirement already satisfied: six in /usr/local/lib/python3.7/dist-packages (from nltk) (1.15.0)\n"
          ],
          "name": "stdout"
        }
      ]
    },
    {
      "cell_type": "markdown",
      "metadata": {
        "id": "EJiWzOmlR3CX"
      },
      "source": [
        "# Ejercicio 2 (35%)\n",
        "\n",
        "El objetivo de este ejercicio es comprobar los conocimientos adquiridos por el alumno en temas relacionados a las transformación de textos utilizando la técnica de TFIDF.\n",
        "\n",
        "- **Apartado 1**: Preprocesar los textos del corpus con las funciones de preprocesado creadas en el ejercicio 1 (quitar palabras vacías, quitar símbolos de puntuación, lematizar con spacy) (20%)\n",
        "\n",
        "- **Apartado 2**: Utilizar la función de scikit-learn para realizar la transformación a TF-IDF del texto considerando que:\n",
        "    - Se consideren unigramas, bigramas y trigramas (20%)\n",
        "    - No se tengan en cuenta los elementos que aparezcan en menos del 5% de los textos (30%)\n",
        "    - Se utilice el tokenizador incorporado en Scikit-Learn. (10%)\n",
        "    - Haya un máximo de 200 características. (10%)\n",
        "\n",
        "\n",
        "> Nota: Como se dije en clase, recordar los valores por defecto de la función. No es una buena práctica duplicar las tareas de preparación de textos. En este ejercicio se está pidiendo realizar el proceso de limpieza **antes** de introducir la cadena de caracteres a la función de scikit-learn, por lo que esta función no debería re-hacer tareas como quitar stopwords, por ejemplo. (la selección correcta de valores de las variables es el último 10% de la valoración del ejercicio).\n",
        "\n",
        "> Además, recordar una vez más la necesidad de comentar correctamente el ejercicio para obtener la máxima calificación (tengo que saber si teneis claro el proceso que estais llevando a cabo!)\n"
      ]
    },
    {
      "cell_type": "markdown",
      "metadata": {
        "id": "5iF9mn5doZRA"
      },
      "source": [
        "# Apartado 1\n",
        "## Preprocesar los textos del corpus con las funciones de preprocesado creadas en el ejercicio 1 (quitar palabras vacías, quitar símbolos de puntuación, lematizar con spacy)"
      ]
    },
    {
      "cell_type": "markdown",
      "metadata": {
        "id": "5Ww6E88zofQ5"
      },
      "source": [
        "Haciendo uso de las funciones creadas en el ejercicio 1, preprocesemos los datos"
      ]
    },
    {
      "cell_type": "code",
      "metadata": {
        "id": "_Oa2D4XAD9pK",
        "colab": {
          "base_uri": "https://localhost:8080/"
        },
        "outputId": "b39c01c6-9edf-493c-dbed-db8af1163128"
      },
      "source": [
        "import pandas as pd\n",
        "import numpy as np\n",
        "from tqdm.autonotebook import tqdm\n",
        "tqdm.pandas()\n",
        "import nltk"
      ],
      "execution_count": 3,
      "outputs": [
        {
          "output_type": "stream",
          "text": [
            "/usr/local/lib/python3.7/dist-packages/ipykernel_launcher.py:3: TqdmExperimentalWarning: Using `tqdm.autonotebook.tqdm` in notebook mode. Use `tqdm.tqdm` instead to force console mode (e.g. in jupyter console)\n",
            "  This is separate from the ipykernel package so we can avoid doing imports until\n",
            "/usr/local/lib/python3.7/dist-packages/tqdm/std.py:658: FutureWarning: The Panel class is removed from pandas. Accessing it from the top-level namespace will also be removed in the next version\n",
            "  from pandas import Panel\n"
          ],
          "name": "stderr"
        }
      ]
    },
    {
      "cell_type": "code",
      "metadata": {
        "id": "vcU6xu7ZLpWD",
        "colab": {
          "base_uri": "https://localhost:8080/"
        },
        "outputId": "7177f9f6-f1fe-45f9-b61f-a5fe647d7176"
      },
      "source": [
        "nltk.download('punkt')\n",
        "nltk.download('wordnet')\n",
        "nltk.download('averaged_perceptron_tagger')\n",
        "nltk.download('tagsets')\n",
        "nltk.download('maxent_ne_chunker')\n",
        "nltk.download('words')\n",
        "nltk.download('stopwords')\n",
        "from nltk.corpus import stopwords\n",
        "from nltk.tokenize import word_tokenize\n",
        "import string\n",
        "import es_core_news_sm"
      ],
      "execution_count": 8,
      "outputs": [
        {
          "output_type": "stream",
          "text": [
            "[nltk_data] Downloading package punkt to /root/nltk_data...\n",
            "[nltk_data]   Unzipping tokenizers/punkt.zip.\n",
            "[nltk_data] Downloading package wordnet to /root/nltk_data...\n",
            "[nltk_data]   Unzipping corpora/wordnet.zip.\n",
            "[nltk_data] Downloading package averaged_perceptron_tagger to\n",
            "[nltk_data]     /root/nltk_data...\n",
            "[nltk_data]   Unzipping taggers/averaged_perceptron_tagger.zip.\n",
            "[nltk_data] Downloading package tagsets to /root/nltk_data...\n",
            "[nltk_data]   Unzipping help/tagsets.zip.\n",
            "[nltk_data] Downloading package maxent_ne_chunker to\n",
            "[nltk_data]     /root/nltk_data...\n",
            "[nltk_data]   Unzipping chunkers/maxent_ne_chunker.zip.\n",
            "[nltk_data] Downloading package words to /root/nltk_data...\n",
            "[nltk_data]   Package words is already up-to-date!\n",
            "[nltk_data] Downloading package stopwords to /root/nltk_data...\n",
            "[nltk_data]   Package stopwords is already up-to-date!\n"
          ],
          "name": "stdout"
        }
      ]
    },
    {
      "cell_type": "code",
      "metadata": {
        "id": "jc9Rt9J8MgaR"
      },
      "source": [
        "dataset2 = pd.read_csv(\"tripadvisor_reviews.tsv\", sep = \"\\t\")"
      ],
      "execution_count": 5,
      "outputs": []
    },
    {
      "cell_type": "markdown",
      "metadata": {
        "id": "hPBZTqaY31LG"
      },
      "source": [
        "Empleamos las mismas funciones que en el ejercicio para preprocesar los datos, sin tener en cuenta todavía la función nltk tpkenizer dado que se incluirá posteriormente en la función de sklearn"
      ]
    },
    {
      "cell_type": "code",
      "metadata": {
        "id": "1b-mFLUroe8K"
      },
      "source": [
        "def quit_empty_words(text):\n",
        "  text_tokens = word_tokenize(text)\n",
        "  text_tokenized = [word for word in text_tokens if not word in stopwords.words('english')]\n",
        "  return \" \".join(text_tokenized)\n",
        "\n",
        "def remove_punctuations(text):\n",
        "    for punctuation in string.punctuation:\n",
        "        text = text.replace(punctuation, '')\n",
        "    return text\n",
        "nlp = es_core_news_sm.load(disable=['parser', 'ner'])\n",
        "def lematizar(words):\n",
        "    mytokens = nlp(words)\n",
        "    # Lematizamos los tokens y los convertimos  a minusculas\n",
        "    mytokens = [ word.lemma_ if word.lemma_ != \"-PRON-\" else word.lower_ for word in mytokens ]\n",
        "    # Extraemos el text en una string\n",
        "    return mytokens\n"
      ],
      "execution_count": 9,
      "outputs": []
    },
    {
      "cell_type": "code",
      "metadata": {
        "id": "yus4Kvs0MLI5",
        "colab": {
          "base_uri": "https://localhost:8080/",
          "height": 115,
          "referenced_widgets": [
            "8df7fd86af864b869810eea83f22d63b",
            "2fb595ec53f6416498f54ca71d54f565",
            "50b1fdb6f8724afe982ded595f40484f",
            "86827c0dc53b4b5ab063f7f81e1727d0",
            "035b70a4226d4cbc85d518665007eb50",
            "7d2bc507923140a1a002bf4a5fe3ab92",
            "fd161a4d5f8941148a16891afeacb15a",
            "fa381f049d574af794601c56ccde9940",
            "ba0d0257dd5d4b30b29174384c68579d",
            "c9bb10c9120f4ec38300f02bf878c5de",
            "967554ec43404f8b93325ab68c723a33",
            "3106fe764d2d4f948d0b80fa99d0d024",
            "155c9ac453b54a5c8631bdbd5fabca12",
            "140adaaa288444998fe2ce3997f6e16f",
            "8b9ee943e7b24fa3927d9066bf086b6e",
            "ed8fb7536961464998d0a6916dbdc8dd"
          ]
        },
        "outputId": "3683cd54-b14f-4434-8b58-e88a425997a8"
      },
      "source": [
        "dataset2['text_processed']= dataset2[\"Review\"].progress_apply(lambda x: quit_empty_words(x))\n",
        "dataset2['text_processed']= dataset2[\"text_processed\"].apply(remove_punctuations)\n",
        "dataset2['text_processed']= dataset2[\"text_processed\"].progress_apply(lambda x: lematizar(x))"
      ],
      "execution_count": 10,
      "outputs": [
        {
          "output_type": "display_data",
          "data": {
            "application/vnd.jupyter.widget-view+json": {
              "model_id": "8df7fd86af864b869810eea83f22d63b",
              "version_minor": 0,
              "version_major": 2
            },
            "text/plain": [
              "HBox(children=(FloatProgress(value=0.0, max=20491.0), HTML(value='')))"
            ]
          },
          "metadata": {
            "tags": []
          }
        },
        {
          "output_type": "stream",
          "text": [
            "\n"
          ],
          "name": "stdout"
        },
        {
          "output_type": "display_data",
          "data": {
            "application/vnd.jupyter.widget-view+json": {
              "model_id": "ba0d0257dd5d4b30b29174384c68579d",
              "version_minor": 0,
              "version_major": 2
            },
            "text/plain": [
              "HBox(children=(FloatProgress(value=0.0, max=20491.0), HTML(value='')))"
            ]
          },
          "metadata": {
            "tags": []
          }
        },
        {
          "output_type": "stream",
          "text": [
            "\n"
          ],
          "name": "stdout"
        }
      ]
    },
    {
      "cell_type": "code",
      "metadata": {
        "colab": {
          "base_uri": "https://localhost:8080/",
          "height": 66,
          "referenced_widgets": [
            "1bcd9fe6f4194a47ac5cc850ff1f9a19",
            "bd9002b309b9406189a30e42e573e5bb",
            "0fad4e5740c3444bb0235c56e23702c7",
            "f9ad5956730f428793150a30ab5ebd0e",
            "478ea0c6d2b24beb86d0fe643dd20452",
            "d50016eb939d491a8adce97303b86cc4",
            "99a7a0a6ec1647549f06a7ac54e060b6",
            "9301feb4dd3a423cb6e17df92a6a4131"
          ]
        },
        "id": "Y6CHb3oScMM_",
        "outputId": "59e776b0-6bd0-40f9-dad0-4f0124fb68b4"
      },
      "source": [
        "dataset2[\"text_processed\"] = dataset2[\"text_processed\"].progress_apply(lambda x: \" \".join(x))"
      ],
      "execution_count": 19,
      "outputs": [
        {
          "output_type": "display_data",
          "data": {
            "application/vnd.jupyter.widget-view+json": {
              "model_id": "1bcd9fe6f4194a47ac5cc850ff1f9a19",
              "version_minor": 0,
              "version_major": 2
            },
            "text/plain": [
              "HBox(children=(FloatProgress(value=0.0, max=20491.0), HTML(value='')))"
            ]
          },
          "metadata": {
            "tags": []
          }
        },
        {
          "output_type": "stream",
          "text": [
            "\n"
          ],
          "name": "stdout"
        }
      ]
    },
    {
      "cell_type": "markdown",
      "metadata": {
        "id": "9RG6nD-oPSDY"
      },
      "source": [
        "# Apartado 2\n",
        "## Utilizar la función de scikit-learn para realizar la transformación a TF-IDF del texto "
      ]
    },
    {
      "cell_type": "markdown",
      "metadata": {
        "id": "SNv8hkGUPcaC"
      },
      "source": [
        "De lo que se trata ahora es  de convertir una colección de documentos sin procesar en una matriz de funciones TF-IDF o en el caso de CountVectorizer obterner recuento de tokens. Ambas funciones de sklearn permiten obtener tokens "
      ]
    },
    {
      "cell_type": "code",
      "metadata": {
        "id": "MP21mQbyPROw"
      },
      "source": [
        "from sklearn.feature_extraction.text import CountVectorizer,TfidfVectorizer\n",
        "from sklearn.feature_extraction import text"
      ],
      "execution_count": 60,
      "outputs": []
    },
    {
      "cell_type": "code",
      "metadata": {
        "id": "1_anzTmzn49y"
      },
      "source": [
        "tex_pre = dataset2[\"text_processed\"].to_list()"
      ],
      "execution_count": 74,
      "outputs": []
    },
    {
      "cell_type": "markdown",
      "metadata": {
        "id": "f_4LRfol6EVd"
      },
      "source": [
        "De acuerdo a los parámetros fijados en el enunciado: considerar tanto unigramas, bigramas y trigramas, un máximo de 200 características, sin tener en cuenta las que aparecen en un porcentaje menor al 5%.. etc"
      ]
    },
    {
      "cell_type": "code",
      "metadata": {
        "id": "Q_RO8GeIQMaV"
      },
      "source": [
        "tfidf_vect = TfidfVectorizer(lowercase = False, stop_words = None, \n",
        "                             ngram_range = (1,3), use_idf = True, smooth_idf = True,\n",
        "                             norm = \"l2\",max_features=200, min_df=0.05, tokenizer=None)\n",
        "data_tfidf= tfidf_vect.fit(tex_pre)"
      ],
      "execution_count": 100,
      "outputs": []
    },
    {
      "cell_type": "markdown",
      "metadata": {
        "id": "ap7dRqi45n1c"
      },
      "source": [
        "TF-IDF es una medida estadística que evalúa la relevancia de una palabra para un documento en una colección de documentos. Esto se hace multiplicando dos métricas: cuántas veces aparece una palabra en un documento y la frecuencia inversa del documento de la palabra en un conjunto de documentos.\n",
        "Vemos el número de palabras contenidas en nuestro diccionario con su posición, además de todo el vocabulario contenido en el corpus"
      ]
    },
    {
      "cell_type": "code",
      "metadata": {
        "colab": {
          "base_uri": "https://localhost:8080/"
        },
        "id": "as3hOhFGz0vf",
        "outputId": "d9b9b02b-0a07-4cd0-ebe7-b8a86bbc03e2"
      },
      "source": [
        "print(\"\\n\\n TF-IDF VECTORIZER\")\n",
        "print(\"Obtenemos un dictionario que mapea las palabras con su posición en el vector del vocabulario\")\n",
        "print(data_tfidf.vocabulary_)\n",
        "print(\"Obtenemos el vocabulario en si mismo como una lista\")\n",
        "print(data_tfidf.get_feature_names())\n",
        "print(\"Numero de características:\")\n",
        "print(len(data_tfidf.get_feature_names()))"
      ],
      "execution_count": 102,
      "outputs": [
        {
          "output_type": "stream",
          "text": [
            "\n",
            "\n",
            " TF-IDF VECTORIZER\n",
            "Obtenemos un dictionario que mapea las palabras con su posición en el vector del vocabulario\n",
            "{'nice': 114, 'hotel': 82, 'expensive': 55, 'got': 73, 'good': 72, 'stay': 164, 'arrived': 5, 'evening': 53, 'took': 176, 'reviews': 145, 'check': 29, 'easy': 47, 'little': 94, 'view': 186, 'room': 147, 'clean': 31, 'size': 156, 'bed': 15, 'comfortable': 36, 'like': 93, 'night': 115, 'morning': 110, 'people': 126, 'staying': 166, 'location': 97, 'great': 74, 'walking': 189, 'shopping': 153, 'overall': 124, 'experience': 56, 'pay': 125, 'ok': 120, 'nothing': 118, 'booked': 21, 'suite': 168, 'extra': 57, 'bathroom': 12, 'standard': 161, 'desk': 41, 'said': 149, 'things': 171, 'tv': 181, 'told': 175, 'free': 67, 'breakfast': 22, 'day': 38, 'hard': 77, 'trip': 179, 'staff': 159, 'helpful': 78, 'asked': 7, 'hotels': 83, 'best': 17, 'away': 9, 'know': 90, 'really': 137, 'wanted': 191, 'make': 106, 'sure': 169, 'better': 18, 'left': 92, 'short': 154, 'hours': 85, 'beds': 16, 'rooms': 148, 'nt': 119, 'large': 91, 'usar': 182, 'car': 28, 'service': 152, 'price': 132, 'huge': 86, 'open': 122, 'felt': 63, 'big': 19, 'far': 61, 'way': 193, 'try': 180, 'came': 27, 'look': 99, 'work': 197, '10': 0, 'water': 192, 'going': 71, 'wonderful': 196, 'timar': 174, 'excellent': 54, 'main': 105, 'area': 4, 'friendly': 68, 'enjoyed': 51, 'lobby': 95, 'thought': 173, 'internet': 88, 'lovely': 104, 'feel': 62, 'star': 162, 'staff friendly': 160, 'went': 195, 'problem': 133, 'want': 190, 'english': 50, 'thing': 170, 'city': 30, 'return': 143, 'walk': 188, 'right': 146, 'street': 167, 'coffee': 34, 'available': 8, 'family': 59, 'located': 96, 'getting': 70, 'floor': 65, 'placer': 128, 'recommend': 139, 'husband': 87, 'stayed': 165, 'beautiful': 14, 'used': 183, 'quiet': 135, 'reception': 138, 'restaurant': 141, 'food': 66, 'drinks': 45, 'couple': 37, 'bad': 10, 'definitely': 40, 'nights': 116, 'early': 46, 'comer': 35, 'noise': 117, 'plenty': 129, 'small': 157, 'lots': 102, 'quitar': 136, 'home': 80, 'door': 44, 'hour': 84, 'close': 32, 'guests': 76, 'loved': 103, 'restaurants': 142, 'value': 185, 'ca': 25, 'ca nt': 26, 'especially': 52, 'say': 151, 'days': 39, 'fun': 69, 'pretty': 131, 'finar': 64, 'new': 113, 'minutar': 107, 'week': 194, 'airport': 2, 'great location': 75, 'ask': 6, 'extremely': 58, 'looking': 100, 'year': 199, 'dinner': 43, 'money': 109, 'vacation': 184, 'end': 49, 'fantastic': 60, 'highly': 79, 'tour': 177, 'spacious': 158, 'lot': 101, 'bar': 11, 'eat': 48, 'visit': 187, 'bit': 20, 'shower': 155, 'towels': 178, 'worth': 198, 'need': 112, 'old': 121, 'think': 172, 'pool': 130, 'bus': 24, 'air': 1, 'santo': 150, 'perfect': 127, 'amazing': 3, 'hot': 81, 'different': 42, 'long': 98, 'station': 163, 'near': 111, 'kids': 89, 'returned': 144, 'modern': 108, 'club': 33, 'buffet': 23, 'outside': 123, 'resort': 140, 'beach': 13, 'punta': 134}\n",
            "Obtenemos el vocabulario en si mismo como una lista\n",
            "['10', 'air', 'airport', 'amazing', 'area', 'arrived', 'ask', 'asked', 'available', 'away', 'bad', 'bar', 'bathroom', 'beach', 'beautiful', 'bed', 'beds', 'best', 'better', 'big', 'bit', 'booked', 'breakfast', 'buffet', 'bus', 'ca', 'ca nt', 'came', 'car', 'check', 'city', 'clean', 'close', 'club', 'coffee', 'comer', 'comfortable', 'couple', 'day', 'days', 'definitely', 'desk', 'different', 'dinner', 'door', 'drinks', 'early', 'easy', 'eat', 'end', 'english', 'enjoyed', 'especially', 'evening', 'excellent', 'expensive', 'experience', 'extra', 'extremely', 'family', 'fantastic', 'far', 'feel', 'felt', 'finar', 'floor', 'food', 'free', 'friendly', 'fun', 'getting', 'going', 'good', 'got', 'great', 'great location', 'guests', 'hard', 'helpful', 'highly', 'home', 'hot', 'hotel', 'hotels', 'hour', 'hours', 'huge', 'husband', 'internet', 'kids', 'know', 'large', 'left', 'like', 'little', 'lobby', 'located', 'location', 'long', 'look', 'looking', 'lot', 'lots', 'loved', 'lovely', 'main', 'make', 'minutar', 'modern', 'money', 'morning', 'near', 'need', 'new', 'nice', 'night', 'nights', 'noise', 'nothing', 'nt', 'ok', 'old', 'open', 'outside', 'overall', 'pay', 'people', 'perfect', 'placer', 'plenty', 'pool', 'pretty', 'price', 'problem', 'punta', 'quiet', 'quitar', 'really', 'reception', 'recommend', 'resort', 'restaurant', 'restaurants', 'return', 'returned', 'reviews', 'right', 'room', 'rooms', 'said', 'santo', 'say', 'service', 'shopping', 'short', 'shower', 'size', 'small', 'spacious', 'staff', 'staff friendly', 'standard', 'star', 'station', 'stay', 'stayed', 'staying', 'street', 'suite', 'sure', 'thing', 'things', 'think', 'thought', 'timar', 'told', 'took', 'tour', 'towels', 'trip', 'try', 'tv', 'usar', 'used', 'vacation', 'value', 'view', 'visit', 'walk', 'walking', 'want', 'wanted', 'water', 'way', 'week', 'went', 'wonderful', 'work', 'worth', 'year']\n",
            "Numero de características:\n",
            "200\n"
          ],
          "name": "stdout"
        }
      ]
    },
    {
      "cell_type": "markdown",
      "metadata": {
        "id": "y1vDXwhC3DvX"
      },
      "source": [
        "\n",
        "TF-IDF es muy poderoso para capturar las palabras más importantes en su texto."
      ]
    },
    {
      "cell_type": "code",
      "metadata": {
        "id": "hfaRo4kJ2CBv"
      },
      "source": [
        "df_dict= sorted(data_tfidf.vocabulary_.items(), key=lambda x: x[1], reverse=True)  "
      ],
      "execution_count": 106,
      "outputs": []
    },
    {
      "cell_type": "code",
      "metadata": {
        "colab": {
          "base_uri": "https://localhost:8080/"
        },
        "id": "HJNTFKpQ2Hi9",
        "outputId": "661d7e6c-44a5-4af5-d6a3-ec9332c38b4a"
      },
      "source": [
        "df_dict"
      ],
      "execution_count": 107,
      "outputs": [
        {
          "output_type": "execute_result",
          "data": {
            "text/plain": [
              "[('year', 199),\n",
              " ('worth', 198),\n",
              " ('work', 197),\n",
              " ('wonderful', 196),\n",
              " ('went', 195),\n",
              " ('week', 194),\n",
              " ('way', 193),\n",
              " ('water', 192),\n",
              " ('wanted', 191),\n",
              " ('want', 190),\n",
              " ('walking', 189),\n",
              " ('walk', 188),\n",
              " ('visit', 187),\n",
              " ('view', 186),\n",
              " ('value', 185),\n",
              " ('vacation', 184),\n",
              " ('used', 183),\n",
              " ('usar', 182),\n",
              " ('tv', 181),\n",
              " ('try', 180),\n",
              " ('trip', 179),\n",
              " ('towels', 178),\n",
              " ('tour', 177),\n",
              " ('took', 176),\n",
              " ('told', 175),\n",
              " ('timar', 174),\n",
              " ('thought', 173),\n",
              " ('think', 172),\n",
              " ('things', 171),\n",
              " ('thing', 170),\n",
              " ('sure', 169),\n",
              " ('suite', 168),\n",
              " ('street', 167),\n",
              " ('staying', 166),\n",
              " ('stayed', 165),\n",
              " ('stay', 164),\n",
              " ('station', 163),\n",
              " ('star', 162),\n",
              " ('standard', 161),\n",
              " ('staff friendly', 160),\n",
              " ('staff', 159),\n",
              " ('spacious', 158),\n",
              " ('small', 157),\n",
              " ('size', 156),\n",
              " ('shower', 155),\n",
              " ('short', 154),\n",
              " ('shopping', 153),\n",
              " ('service', 152),\n",
              " ('say', 151),\n",
              " ('santo', 150),\n",
              " ('said', 149),\n",
              " ('rooms', 148),\n",
              " ('room', 147),\n",
              " ('right', 146),\n",
              " ('reviews', 145),\n",
              " ('returned', 144),\n",
              " ('return', 143),\n",
              " ('restaurants', 142),\n",
              " ('restaurant', 141),\n",
              " ('resort', 140),\n",
              " ('recommend', 139),\n",
              " ('reception', 138),\n",
              " ('really', 137),\n",
              " ('quitar', 136),\n",
              " ('quiet', 135),\n",
              " ('punta', 134),\n",
              " ('problem', 133),\n",
              " ('price', 132),\n",
              " ('pretty', 131),\n",
              " ('pool', 130),\n",
              " ('plenty', 129),\n",
              " ('placer', 128),\n",
              " ('perfect', 127),\n",
              " ('people', 126),\n",
              " ('pay', 125),\n",
              " ('overall', 124),\n",
              " ('outside', 123),\n",
              " ('open', 122),\n",
              " ('old', 121),\n",
              " ('ok', 120),\n",
              " ('nt', 119),\n",
              " ('nothing', 118),\n",
              " ('noise', 117),\n",
              " ('nights', 116),\n",
              " ('night', 115),\n",
              " ('nice', 114),\n",
              " ('new', 113),\n",
              " ('need', 112),\n",
              " ('near', 111),\n",
              " ('morning', 110),\n",
              " ('money', 109),\n",
              " ('modern', 108),\n",
              " ('minutar', 107),\n",
              " ('make', 106),\n",
              " ('main', 105),\n",
              " ('lovely', 104),\n",
              " ('loved', 103),\n",
              " ('lots', 102),\n",
              " ('lot', 101),\n",
              " ('looking', 100),\n",
              " ('look', 99),\n",
              " ('long', 98),\n",
              " ('location', 97),\n",
              " ('located', 96),\n",
              " ('lobby', 95),\n",
              " ('little', 94),\n",
              " ('like', 93),\n",
              " ('left', 92),\n",
              " ('large', 91),\n",
              " ('know', 90),\n",
              " ('kids', 89),\n",
              " ('internet', 88),\n",
              " ('husband', 87),\n",
              " ('huge', 86),\n",
              " ('hours', 85),\n",
              " ('hour', 84),\n",
              " ('hotels', 83),\n",
              " ('hotel', 82),\n",
              " ('hot', 81),\n",
              " ('home', 80),\n",
              " ('highly', 79),\n",
              " ('helpful', 78),\n",
              " ('hard', 77),\n",
              " ('guests', 76),\n",
              " ('great location', 75),\n",
              " ('great', 74),\n",
              " ('got', 73),\n",
              " ('good', 72),\n",
              " ('going', 71),\n",
              " ('getting', 70),\n",
              " ('fun', 69),\n",
              " ('friendly', 68),\n",
              " ('free', 67),\n",
              " ('food', 66),\n",
              " ('floor', 65),\n",
              " ('finar', 64),\n",
              " ('felt', 63),\n",
              " ('feel', 62),\n",
              " ('far', 61),\n",
              " ('fantastic', 60),\n",
              " ('family', 59),\n",
              " ('extremely', 58),\n",
              " ('extra', 57),\n",
              " ('experience', 56),\n",
              " ('expensive', 55),\n",
              " ('excellent', 54),\n",
              " ('evening', 53),\n",
              " ('especially', 52),\n",
              " ('enjoyed', 51),\n",
              " ('english', 50),\n",
              " ('end', 49),\n",
              " ('eat', 48),\n",
              " ('easy', 47),\n",
              " ('early', 46),\n",
              " ('drinks', 45),\n",
              " ('door', 44),\n",
              " ('dinner', 43),\n",
              " ('different', 42),\n",
              " ('desk', 41),\n",
              " ('definitely', 40),\n",
              " ('days', 39),\n",
              " ('day', 38),\n",
              " ('couple', 37),\n",
              " ('comfortable', 36),\n",
              " ('comer', 35),\n",
              " ('coffee', 34),\n",
              " ('club', 33),\n",
              " ('close', 32),\n",
              " ('clean', 31),\n",
              " ('city', 30),\n",
              " ('check', 29),\n",
              " ('car', 28),\n",
              " ('came', 27),\n",
              " ('ca nt', 26),\n",
              " ('ca', 25),\n",
              " ('bus', 24),\n",
              " ('buffet', 23),\n",
              " ('breakfast', 22),\n",
              " ('booked', 21),\n",
              " ('bit', 20),\n",
              " ('big', 19),\n",
              " ('better', 18),\n",
              " ('best', 17),\n",
              " ('beds', 16),\n",
              " ('bed', 15),\n",
              " ('beautiful', 14),\n",
              " ('beach', 13),\n",
              " ('bathroom', 12),\n",
              " ('bar', 11),\n",
              " ('bad', 10),\n",
              " ('away', 9),\n",
              " ('available', 8),\n",
              " ('asked', 7),\n",
              " ('ask', 6),\n",
              " ('arrived', 5),\n",
              " ('area', 4),\n",
              " ('amazing', 3),\n",
              " ('airport', 2),\n",
              " ('air', 1),\n",
              " ('10', 0)]"
            ]
          },
          "metadata": {
            "tags": []
          },
          "execution_count": 107
        }
      ]
    },
    {
      "cell_type": "markdown",
      "metadata": {
        "id": "lPWyuac66bpF"
      },
      "source": [
        "Visualizamos la salida"
      ]
    },
    {
      "cell_type": "markdown",
      "metadata": {
        "id": "9UDbSbqT9ULT"
      },
      "source": [
        "Como resultado se puede comprobar que los caracteres alfanumericos estan incluidos dentro de nuestro vector de características. Esto puede deberse a que muchso al ser datos en horas y al eliminar caracteres se hayan juntando formando un token, por ejemplo. Ocurre lo mismo con las unidades de medida, con los apóstrofes, ..etc\n",
        "Es importante destacar que las palabras más usadas en peso son: **year','worth','work','wonderful','went','week'**. Resulta interesante que dos palabras que podrían ser caracter positivo sean de las importantes, ya que no sabemos el contexto de la frase que lo acompaña. el resto hace referencia claramente a términos relacionados con las vacaciones."
      ]
    }
  ]
}